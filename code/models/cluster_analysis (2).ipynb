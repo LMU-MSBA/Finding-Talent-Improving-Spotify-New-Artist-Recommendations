{
 "cells": [
  {
   "cell_type": "markdown",
   "id": "b4ef3a6d-6030-4bf6-bf4c-50e0ccc8eb67",
   "metadata": {},
   "source": [
    "# Cluster Analysis"
   ]
  },
  {
   "cell_type": "markdown",
   "id": "345339f8-a671-44d2-ba5f-bba6aa70eb70",
   "metadata": {},
   "source": [
    "## Dependencies"
   ]
  },
  {
   "cell_type": "code",
   "execution_count": 1,
   "id": "6c9a8fb4-2640-4b9c-b73d-8d4fd1688327",
   "metadata": {
    "tags": []
   },
   "outputs": [
    {
     "name": "stdout",
     "output_type": "stream",
     "text": [
      "Requirement already satisfied: python-dotenv in /Users/sebastianvanhemert/anaconda3/lib/python3.11/site-packages (1.0.1)\n",
      "Requirement already satisfied: sqlalchemy in /Users/sebastianvanhemert/anaconda3/lib/python3.11/site-packages (1.4.39)\n",
      "Requirement already satisfied: greenlet!=0.4.17 in /Users/sebastianvanhemert/anaconda3/lib/python3.11/site-packages (from sqlalchemy) (2.0.1)\n",
      "Requirement already satisfied: pymysql in /Users/sebastianvanhemert/anaconda3/lib/python3.11/site-packages (1.1.0)\n",
      "Requirement already satisfied: mysql-connector-python in /Users/sebastianvanhemert/anaconda3/lib/python3.11/site-packages (8.3.0)\n"
     ]
    }
   ],
   "source": [
    "!pip install python-dotenv\n",
    "!pip install sqlalchemy\n",
    "!pip install pymysql\n",
    "!pip install mysql-connector-python"
   ]
  },
  {
   "cell_type": "code",
   "execution_count": 2,
   "id": "f8dac7db-dce0-4668-8053-02d7603d9434",
   "metadata": {
    "tags": []
   },
   "outputs": [],
   "source": [
    "# Import necessary libraries and packages\n",
    "import os\n",
    "import pandas as pd\n",
    "import numpy as np\n",
    "import seaborn as sns\n",
    "import matplotlib.pyplot as plt\n",
    "from mpl_toolkits.mplot3d import Axes3D\n",
    "from sklearn.cluster import KMeans\n",
    "from sklearn.preprocessing import MinMaxScaler\n",
    "import plotly.graph_objects as go\n",
    "from sklearn.decomposition import PCA\n",
    "from dotenv import load_dotenv\n",
    "from sqlalchemy import create_engine\n",
    "import pymysql"
   ]
  },
  {
   "cell_type": "code",
   "execution_count": 3,
   "id": "baf8e2c7-4285-41f7-8bfc-86b4f7179a38",
   "metadata": {
    "tags": []
   },
   "outputs": [],
   "source": [
    "#\n",
    "pd.set_option('display.max_columns', None)"
   ]
  },
  {
   "cell_type": "markdown",
   "id": "330402aa-8dd0-4021-a590-eeb545fe1b62",
   "metadata": {},
   "source": [
    "## Connect to database"
   ]
  },
  {
   "cell_type": "code",
   "execution_count": 4,
   "id": "e62b0dcf-6eae-440d-9690-22c093ae023a",
   "metadata": {
    "tags": []
   },
   "outputs": [],
   "source": [
    "# Load environment variables from .env file\n",
    "load_dotenv('config.env')\n",
    "\n",
    "# Get database credentials from environment variables\n",
    "username = 'bsan6060' #os.environ.get('RDS_USERNAME')\n",
    "password = 'awsBSAN6060' #os.environ.get('RDS_PASSWORD')\n",
    "host = 'j-lavender-bsan.clw6q2u2kfpj.us-west-1.rds.amazonaws.com' #os.environ.get('RDS_HOST')\n",
    "port = '3306' #os.environ.get('RDS_HOST')\n",
    "database_name = 'spotify_6080_sprint02' #os.environ.get('RDS_DATABASE2')\n",
    "\n",
    "# Construct the database URL\n",
    "url = f\"mysql+pymysql://{username}:{password}@{host}:{port}/{database_name}\""
   ]
  },
  {
   "cell_type": "code",
   "execution_count": 5,
   "id": "b6fa6899-586c-4a23-81db-9f292c7b6487",
   "metadata": {
    "tags": []
   },
   "outputs": [],
   "source": [
    "def fetch_data_from_database(url):\n",
    "    # Create the SQLAlchemy engine using the connection from connect_to_database()\n",
    "    engine = create_engine(url)\n",
    "    \n",
    "    # Fetch data from tables\n",
    "    try:\n",
    "        with engine.connect() as conn:\n",
    "            # Fetch data from dim_track table\n",
    "            dim_track_df = pd.read_sql_table(\"dim_track\", conn)\n",
    "            # Fetch data from dim_artist table\n",
    "            dim_artist_df = pd.read_sql_table(\"dim_artist\", conn)\n",
    "            # Fetch data from fact_playlist table\n",
    "            fact_playlist_df = pd.read_sql_table(\"fact_playlist\", conn)\n",
    "            # Fetch data from intermediate_table table\n",
    "            intermediate_table_df = pd.read_sql_table(\"intermediate_table\", conn)\n",
    "    except Exception as e:\n",
    "        print(f\"Error fetching data: {e}\")\n",
    "        return None, None, None, None\n",
    "\n",
    "    return dim_track_df, dim_artist_df, fact_playlist_df, intermediate_table_df\n",
    "\n",
    "# Call the function and pass the database connection URL\n",
    "dim_track, dim_artist, fact_playlist, intermediate_table = fetch_data_from_database(url)\n",
    "df = fact_playlist"
   ]
  },
  {
   "cell_type": "code",
   "execution_count": 45,
   "id": "4593abc0-1565-4c88-9d45-07f260a6621d",
   "metadata": {
    "tags": []
   },
   "outputs": [
    {
     "name": "stdout",
     "output_type": "stream",
     "text": [
      "Index(['playlist_id', 'playlist_name', 'playlist_description',\n",
      "       'playlist_followers', 'AVG_track_popularity_by_playlist',\n",
      "       'AVG_track_duration_sec_by_playlist',\n",
      "       'RATIO_track_explicit_by_playlist', 'AVG_danceability_by_playlist',\n",
      "       'AVG_energy_by_playlist', 'AVG_loudness_by_playlist',\n",
      "       'AVG_speechiness_by_playlist', 'AVG_accousticness_by_playlist',\n",
      "       'AVG_instrumentalness_by_playlist', 'AVG_liveness_by_playlist',\n",
      "       'AVG_valence_by_playlist', 'AVG_tempo_by_playlist',\n",
      "       'AVG_artist_followers_by_playlist',\n",
      "       'AVG_artist_popularity_by_playlist'],\n",
      "      dtype='object')\n",
      "\n"
     ]
    },
    {
     "data": {
      "text/html": [
       "<div>\n",
       "<style scoped>\n",
       "    .dataframe tbody tr th:only-of-type {\n",
       "        vertical-align: middle;\n",
       "    }\n",
       "\n",
       "    .dataframe tbody tr th {\n",
       "        vertical-align: top;\n",
       "    }\n",
       "\n",
       "    .dataframe thead th {\n",
       "        text-align: right;\n",
       "    }\n",
       "</style>\n",
       "<table border=\"1\" class=\"dataframe\">\n",
       "  <thead>\n",
       "    <tr style=\"text-align: right;\">\n",
       "      <th></th>\n",
       "      <th>playlist_id</th>\n",
       "      <th>playlist_name</th>\n",
       "      <th>playlist_description</th>\n",
       "      <th>playlist_followers</th>\n",
       "      <th>AVG_track_popularity_by_playlist</th>\n",
       "      <th>AVG_track_duration_sec_by_playlist</th>\n",
       "      <th>RATIO_track_explicit_by_playlist</th>\n",
       "      <th>AVG_danceability_by_playlist</th>\n",
       "      <th>AVG_energy_by_playlist</th>\n",
       "      <th>AVG_loudness_by_playlist</th>\n",
       "      <th>AVG_speechiness_by_playlist</th>\n",
       "      <th>AVG_accousticness_by_playlist</th>\n",
       "      <th>AVG_instrumentalness_by_playlist</th>\n",
       "      <th>AVG_liveness_by_playlist</th>\n",
       "      <th>AVG_valence_by_playlist</th>\n",
       "      <th>AVG_tempo_by_playlist</th>\n",
       "      <th>AVG_artist_followers_by_playlist</th>\n",
       "      <th>AVG_artist_popularity_by_playlist</th>\n",
       "    </tr>\n",
       "  </thead>\n",
       "  <tbody>\n",
       "    <tr>\n",
       "      <th>0</th>\n",
       "      <td>37i9dQZEVXbKuaTI1Z1Afx</td>\n",
       "      <td>Viral 50 - USA</td>\n",
       "      <td>Your daily update of the most viral tracks rig...</td>\n",
       "      <td>365991</td>\n",
       "      <td>79.48</td>\n",
       "      <td>181.245</td>\n",
       "      <td>0.42</td>\n",
       "      <td>0.68396</td>\n",
       "      <td>0.650460</td>\n",
       "      <td>-6.12648</td>\n",
       "      <td>0.113584</td>\n",
       "      <td>NaN</td>\n",
       "      <td>0.005662</td>\n",
       "      <td>0.184560</td>\n",
       "      <td>0.520660</td>\n",
       "      <td>132.019</td>\n",
       "      <td>2596260.0</td>\n",
       "      <td>72.42</td>\n",
       "    </tr>\n",
       "    <tr>\n",
       "      <th>1</th>\n",
       "      <td>37i9dQZEVXbLiRSasKsNU9</td>\n",
       "      <td>Viral 50 - Global</td>\n",
       "      <td>Your daily update of the most viral tracks rig...</td>\n",
       "      <td>1769513</td>\n",
       "      <td>79.36</td>\n",
       "      <td>198.576</td>\n",
       "      <td>0.32</td>\n",
       "      <td>0.68662</td>\n",
       "      <td>0.675900</td>\n",
       "      <td>-5.68212</td>\n",
       "      <td>0.122510</td>\n",
       "      <td>NaN</td>\n",
       "      <td>0.002960</td>\n",
       "      <td>0.196626</td>\n",
       "      <td>0.586620</td>\n",
       "      <td>123.731</td>\n",
       "      <td>1723380.0</td>\n",
       "      <td>69.20</td>\n",
       "    </tr>\n",
       "    <tr>\n",
       "      <th>2</th>\n",
       "      <td>37i9dQZEVXbLRQDuF5jeBp</td>\n",
       "      <td>Top 50 - USA</td>\n",
       "      <td>Your daily update of the most played tracks ri...</td>\n",
       "      <td>3377106</td>\n",
       "      <td>89.48</td>\n",
       "      <td>184.404</td>\n",
       "      <td>0.52</td>\n",
       "      <td>0.66130</td>\n",
       "      <td>0.622200</td>\n",
       "      <td>-6.42558</td>\n",
       "      <td>0.082504</td>\n",
       "      <td>NaN</td>\n",
       "      <td>0.003916</td>\n",
       "      <td>0.155642</td>\n",
       "      <td>0.489740</td>\n",
       "      <td>132.257</td>\n",
       "      <td>13008800.0</td>\n",
       "      <td>84.68</td>\n",
       "    </tr>\n",
       "    <tr>\n",
       "      <th>3</th>\n",
       "      <td>37i9dQZEVXbMDoHDwVN2tF</td>\n",
       "      <td>Top 50 - Global</td>\n",
       "      <td>Your daily update of the most played tracks ri...</td>\n",
       "      <td>17077756</td>\n",
       "      <td>90.96</td>\n",
       "      <td>189.094</td>\n",
       "      <td>0.42</td>\n",
       "      <td>0.66072</td>\n",
       "      <td>0.650240</td>\n",
       "      <td>-6.34908</td>\n",
       "      <td>0.084378</td>\n",
       "      <td>NaN</td>\n",
       "      <td>0.009312</td>\n",
       "      <td>0.157258</td>\n",
       "      <td>0.512340</td>\n",
       "      <td>125.733</td>\n",
       "      <td>20288600.0</td>\n",
       "      <td>85.24</td>\n",
       "    </tr>\n",
       "    <tr>\n",
       "      <th>4</th>\n",
       "      <td>37i9dQZF1DWSqBruwoIXkA</td>\n",
       "      <td>sad hour</td>\n",
       "      <td>you don't get to tell me about sad! Cover: Ben...</td>\n",
       "      <td>1757867</td>\n",
       "      <td>75.23</td>\n",
       "      <td>203.302</td>\n",
       "      <td>0.14</td>\n",
       "      <td>0.51726</td>\n",
       "      <td>0.405751</td>\n",
       "      <td>-8.97540</td>\n",
       "      <td>0.051130</td>\n",
       "      <td>NaN</td>\n",
       "      <td>0.029451</td>\n",
       "      <td>0.141135</td>\n",
       "      <td>0.295881</td>\n",
       "      <td>117.450</td>\n",
       "      <td>17376400.0</td>\n",
       "      <td>77.06</td>\n",
       "    </tr>\n",
       "  </tbody>\n",
       "</table>\n",
       "</div>"
      ],
      "text/plain": [
       "              playlist_id      playlist_name  \\\n",
       "0  37i9dQZEVXbKuaTI1Z1Afx     Viral 50 - USA   \n",
       "1  37i9dQZEVXbLiRSasKsNU9  Viral 50 - Global   \n",
       "2  37i9dQZEVXbLRQDuF5jeBp       Top 50 - USA   \n",
       "3  37i9dQZEVXbMDoHDwVN2tF    Top 50 - Global   \n",
       "4  37i9dQZF1DWSqBruwoIXkA           sad hour   \n",
       "\n",
       "                                playlist_description  playlist_followers  \\\n",
       "0  Your daily update of the most viral tracks rig...              365991   \n",
       "1  Your daily update of the most viral tracks rig...             1769513   \n",
       "2  Your daily update of the most played tracks ri...             3377106   \n",
       "3  Your daily update of the most played tracks ri...            17077756   \n",
       "4  you don't get to tell me about sad! Cover: Ben...             1757867   \n",
       "\n",
       "   AVG_track_popularity_by_playlist  AVG_track_duration_sec_by_playlist  \\\n",
       "0                             79.48                             181.245   \n",
       "1                             79.36                             198.576   \n",
       "2                             89.48                             184.404   \n",
       "3                             90.96                             189.094   \n",
       "4                             75.23                             203.302   \n",
       "\n",
       "   RATIO_track_explicit_by_playlist  AVG_danceability_by_playlist  \\\n",
       "0                              0.42                       0.68396   \n",
       "1                              0.32                       0.68662   \n",
       "2                              0.52                       0.66130   \n",
       "3                              0.42                       0.66072   \n",
       "4                              0.14                       0.51726   \n",
       "\n",
       "   AVG_energy_by_playlist  AVG_loudness_by_playlist  \\\n",
       "0                0.650460                  -6.12648   \n",
       "1                0.675900                  -5.68212   \n",
       "2                0.622200                  -6.42558   \n",
       "3                0.650240                  -6.34908   \n",
       "4                0.405751                  -8.97540   \n",
       "\n",
       "   AVG_speechiness_by_playlist  AVG_accousticness_by_playlist  \\\n",
       "0                     0.113584                            NaN   \n",
       "1                     0.122510                            NaN   \n",
       "2                     0.082504                            NaN   \n",
       "3                     0.084378                            NaN   \n",
       "4                     0.051130                            NaN   \n",
       "\n",
       "   AVG_instrumentalness_by_playlist  AVG_liveness_by_playlist  \\\n",
       "0                          0.005662                  0.184560   \n",
       "1                          0.002960                  0.196626   \n",
       "2                          0.003916                  0.155642   \n",
       "3                          0.009312                  0.157258   \n",
       "4                          0.029451                  0.141135   \n",
       "\n",
       "   AVG_valence_by_playlist  AVG_tempo_by_playlist  \\\n",
       "0                 0.520660                132.019   \n",
       "1                 0.586620                123.731   \n",
       "2                 0.489740                132.257   \n",
       "3                 0.512340                125.733   \n",
       "4                 0.295881                117.450   \n",
       "\n",
       "   AVG_artist_followers_by_playlist  AVG_artist_popularity_by_playlist  \n",
       "0                         2596260.0                              72.42  \n",
       "1                         1723380.0                              69.20  \n",
       "2                        13008800.0                              84.68  \n",
       "3                        20288600.0                              85.24  \n",
       "4                        17376400.0                              77.06  "
      ]
     },
     "execution_count": 45,
     "metadata": {},
     "output_type": "execute_result"
    }
   ],
   "source": [
    "# preview data\n",
    "print(df.columns)\n",
    "print()\n",
    "df.head()"
   ]
  },
  {
   "cell_type": "markdown",
   "id": "2163cc91-ac5a-43db-8fd8-1a5c052c7b48",
   "metadata": {},
   "source": [
    "## Data Preparation"
   ]
  },
  {
   "cell_type": "code",
   "execution_count": 7,
   "id": "8a0710c5-65e1-4d2e-905a-3e95a1199479",
   "metadata": {
    "tags": []
   },
   "outputs": [
    {
     "data": {
      "text/html": [
       "<div>\n",
       "<style scoped>\n",
       "    .dataframe tbody tr th:only-of-type {\n",
       "        vertical-align: middle;\n",
       "    }\n",
       "\n",
       "    .dataframe tbody tr th {\n",
       "        vertical-align: top;\n",
       "    }\n",
       "\n",
       "    .dataframe thead th {\n",
       "        text-align: right;\n",
       "    }\n",
       "</style>\n",
       "<table border=\"1\" class=\"dataframe\">\n",
       "  <thead>\n",
       "    <tr style=\"text-align: right;\">\n",
       "      <th></th>\n",
       "      <th>AVG_danceability</th>\n",
       "      <th>AVG_energy</th>\n",
       "      <th>AVG_loudness</th>\n",
       "      <th>AVG_speechiness</th>\n",
       "      <th>AVG_instrumentalness</th>\n",
       "      <th>AVG_liveness</th>\n",
       "      <th>AVG_valence</th>\n",
       "      <th>AVG_tempo</th>\n",
       "    </tr>\n",
       "  </thead>\n",
       "  <tbody>\n",
       "    <tr>\n",
       "      <th>0</th>\n",
       "      <td>0.68396</td>\n",
       "      <td>0.650460</td>\n",
       "      <td>-6.12648</td>\n",
       "      <td>0.113584</td>\n",
       "      <td>0.005662</td>\n",
       "      <td>0.184560</td>\n",
       "      <td>0.520660</td>\n",
       "      <td>132.019</td>\n",
       "    </tr>\n",
       "    <tr>\n",
       "      <th>1</th>\n",
       "      <td>0.68662</td>\n",
       "      <td>0.675900</td>\n",
       "      <td>-5.68212</td>\n",
       "      <td>0.122510</td>\n",
       "      <td>0.002960</td>\n",
       "      <td>0.196626</td>\n",
       "      <td>0.586620</td>\n",
       "      <td>123.731</td>\n",
       "    </tr>\n",
       "    <tr>\n",
       "      <th>2</th>\n",
       "      <td>0.66130</td>\n",
       "      <td>0.622200</td>\n",
       "      <td>-6.42558</td>\n",
       "      <td>0.082504</td>\n",
       "      <td>0.003916</td>\n",
       "      <td>0.155642</td>\n",
       "      <td>0.489740</td>\n",
       "      <td>132.257</td>\n",
       "    </tr>\n",
       "    <tr>\n",
       "      <th>3</th>\n",
       "      <td>0.66072</td>\n",
       "      <td>0.650240</td>\n",
       "      <td>-6.34908</td>\n",
       "      <td>0.084378</td>\n",
       "      <td>0.009312</td>\n",
       "      <td>0.157258</td>\n",
       "      <td>0.512340</td>\n",
       "      <td>125.733</td>\n",
       "    </tr>\n",
       "    <tr>\n",
       "      <th>4</th>\n",
       "      <td>0.51726</td>\n",
       "      <td>0.405751</td>\n",
       "      <td>-8.97540</td>\n",
       "      <td>0.051130</td>\n",
       "      <td>0.029451</td>\n",
       "      <td>0.141135</td>\n",
       "      <td>0.295881</td>\n",
       "      <td>117.450</td>\n",
       "    </tr>\n",
       "  </tbody>\n",
       "</table>\n",
       "</div>"
      ],
      "text/plain": [
       "   AVG_danceability  AVG_energy  AVG_loudness  AVG_speechiness  \\\n",
       "0           0.68396    0.650460      -6.12648         0.113584   \n",
       "1           0.68662    0.675900      -5.68212         0.122510   \n",
       "2           0.66130    0.622200      -6.42558         0.082504   \n",
       "3           0.66072    0.650240      -6.34908         0.084378   \n",
       "4           0.51726    0.405751      -8.97540         0.051130   \n",
       "\n",
       "   AVG_instrumentalness  AVG_liveness  AVG_valence  AVG_tempo  \n",
       "0              0.005662      0.184560     0.520660    132.019  \n",
       "1              0.002960      0.196626     0.586620    123.731  \n",
       "2              0.003916      0.155642     0.489740    132.257  \n",
       "3              0.009312      0.157258     0.512340    125.733  \n",
       "4              0.029451      0.141135     0.295881    117.450  "
      ]
     },
     "execution_count": 7,
     "metadata": {},
     "output_type": "execute_result"
    }
   ],
   "source": [
    "# slice audio feature columns\n",
    "audio_features = df.iloc[:,7:16]\n",
    "\n",
    "# remove the \"by_playlist\"\n",
    "audio_features.columns = audio_features.columns.str.replace('_by_playlist', '')\n",
    "\n",
    "# drop AVG_accousticness because its NaN\n",
    "audio_features.drop(columns=['AVG_accousticness'], inplace=True)\n",
    "\n",
    "# check audio_features\n",
    "audio_features.head()"
   ]
  },
  {
   "cell_type": "code",
   "execution_count": 8,
   "id": "c4f705be-d1c0-451a-b63b-e99e4e57cb7d",
   "metadata": {
    "tags": []
   },
   "outputs": [
    {
     "data": {
      "text/html": [
       "<div>\n",
       "<style scoped>\n",
       "    .dataframe tbody tr th:only-of-type {\n",
       "        vertical-align: middle;\n",
       "    }\n",
       "\n",
       "    .dataframe tbody tr th {\n",
       "        vertical-align: top;\n",
       "    }\n",
       "\n",
       "    .dataframe thead th {\n",
       "        text-align: right;\n",
       "    }\n",
       "</style>\n",
       "<table border=\"1\" class=\"dataframe\">\n",
       "  <thead>\n",
       "    <tr style=\"text-align: right;\">\n",
       "      <th></th>\n",
       "      <th>AVG_danceability</th>\n",
       "      <th>AVG_energy</th>\n",
       "      <th>AVG_loudness</th>\n",
       "      <th>AVG_speechiness</th>\n",
       "      <th>AVG_instrumentalness</th>\n",
       "      <th>AVG_liveness</th>\n",
       "      <th>AVG_valence</th>\n",
       "      <th>AVG_tempo</th>\n",
       "    </tr>\n",
       "  </thead>\n",
       "  <tbody>\n",
       "    <tr>\n",
       "      <th>0</th>\n",
       "      <td>0.68396</td>\n",
       "      <td>0.650460</td>\n",
       "      <td>-6.12648</td>\n",
       "      <td>0.113584</td>\n",
       "      <td>0.005662</td>\n",
       "      <td>0.184560</td>\n",
       "      <td>0.520660</td>\n",
       "      <td>132.019</td>\n",
       "    </tr>\n",
       "    <tr>\n",
       "      <th>1</th>\n",
       "      <td>0.68662</td>\n",
       "      <td>0.675900</td>\n",
       "      <td>-5.68212</td>\n",
       "      <td>0.122510</td>\n",
       "      <td>0.002960</td>\n",
       "      <td>0.196626</td>\n",
       "      <td>0.586620</td>\n",
       "      <td>123.731</td>\n",
       "    </tr>\n",
       "    <tr>\n",
       "      <th>2</th>\n",
       "      <td>0.66130</td>\n",
       "      <td>0.622200</td>\n",
       "      <td>-6.42558</td>\n",
       "      <td>0.082504</td>\n",
       "      <td>0.003916</td>\n",
       "      <td>0.155642</td>\n",
       "      <td>0.489740</td>\n",
       "      <td>132.257</td>\n",
       "    </tr>\n",
       "    <tr>\n",
       "      <th>3</th>\n",
       "      <td>0.66072</td>\n",
       "      <td>0.650240</td>\n",
       "      <td>-6.34908</td>\n",
       "      <td>0.084378</td>\n",
       "      <td>0.009312</td>\n",
       "      <td>0.157258</td>\n",
       "      <td>0.512340</td>\n",
       "      <td>125.733</td>\n",
       "    </tr>\n",
       "    <tr>\n",
       "      <th>4</th>\n",
       "      <td>0.51726</td>\n",
       "      <td>0.405751</td>\n",
       "      <td>-8.97540</td>\n",
       "      <td>0.051130</td>\n",
       "      <td>0.029451</td>\n",
       "      <td>0.141135</td>\n",
       "      <td>0.295881</td>\n",
       "      <td>117.450</td>\n",
       "    </tr>\n",
       "  </tbody>\n",
       "</table>\n",
       "</div>"
      ],
      "text/plain": [
       "   AVG_danceability  AVG_energy  AVG_loudness  AVG_speechiness  \\\n",
       "0           0.68396    0.650460      -6.12648         0.113584   \n",
       "1           0.68662    0.675900      -5.68212         0.122510   \n",
       "2           0.66130    0.622200      -6.42558         0.082504   \n",
       "3           0.66072    0.650240      -6.34908         0.084378   \n",
       "4           0.51726    0.405751      -8.97540         0.051130   \n",
       "\n",
       "   AVG_instrumentalness  AVG_liveness  AVG_valence  AVG_tempo  \n",
       "0              0.005662      0.184560     0.520660    132.019  \n",
       "1              0.002960      0.196626     0.586620    123.731  \n",
       "2              0.003916      0.155642     0.489740    132.257  \n",
       "3              0.009312      0.157258     0.512340    125.733  \n",
       "4              0.029451      0.141135     0.295881    117.450  "
      ]
     },
     "execution_count": 8,
     "metadata": {},
     "output_type": "execute_result"
    }
   ],
   "source": [
    "# normalize before applying clustering method\n",
    "\n",
    "#use the MinMaxScaler to normalize the data\n",
    "scaler = MinMaxScaler()\n",
    "\n",
    "# transform and normalize with fit_transform and minmaxscaler\n",
    "features_normal = scaler.fit_transform(audio_features)\n",
    "\n",
    "# convert the normalized features to a df\n",
    "features_normal = pd.DataFrame(features_normal)\n",
    "\n",
    "# set columns names of normalized df to original df\n",
    "features_normal.columns = audio_features.columns\n",
    "\n",
    "# print results\n",
    "features_normal.head()"
   ]
  },
  {
   "cell_type": "markdown",
   "id": "857c7f97-2647-4cdd-b997-fdb08fa8fbfb",
   "metadata": {},
   "source": [
    "## Explorative Data Analysis (EDA)"
   ]
  },
  {
   "cell_type": "code",
   "execution_count": 9,
   "id": "512f7425-1496-45b3-8c0e-926e4577b2c0",
   "metadata": {
    "tags": []
   },
   "outputs": [
    {
     "data": {
      "text/html": [
       "<div>\n",
       "<style scoped>\n",
       "    .dataframe tbody tr th:only-of-type {\n",
       "        vertical-align: middle;\n",
       "    }\n",
       "\n",
       "    .dataframe tbody tr th {\n",
       "        vertical-align: top;\n",
       "    }\n",
       "\n",
       "    .dataframe thead th {\n",
       "        text-align: right;\n",
       "    }\n",
       "</style>\n",
       "<table border=\"1\" class=\"dataframe\">\n",
       "  <thead>\n",
       "    <tr style=\"text-align: right;\">\n",
       "      <th></th>\n",
       "      <th>AVG_danceability</th>\n",
       "      <th>AVG_energy</th>\n",
       "      <th>AVG_loudness</th>\n",
       "      <th>AVG_speechiness</th>\n",
       "      <th>AVG_instrumentalness</th>\n",
       "      <th>AVG_liveness</th>\n",
       "      <th>AVG_valence</th>\n",
       "      <th>AVG_tempo</th>\n",
       "    </tr>\n",
       "  </thead>\n",
       "  <tbody>\n",
       "    <tr>\n",
       "      <th>AVG_danceability</th>\n",
       "      <td>1.000000</td>\n",
       "      <td>-0.237738</td>\n",
       "      <td>-0.098892</td>\n",
       "      <td>0.599349</td>\n",
       "      <td>-0.209370</td>\n",
       "      <td>-0.416902</td>\n",
       "      <td>0.315193</td>\n",
       "      <td>-0.304895</td>\n",
       "    </tr>\n",
       "    <tr>\n",
       "      <th>AVG_energy</th>\n",
       "      <td>-0.237738</td>\n",
       "      <td>1.000000</td>\n",
       "      <td>0.838498</td>\n",
       "      <td>-0.093451</td>\n",
       "      <td>0.284740</td>\n",
       "      <td>0.686431</td>\n",
       "      <td>0.179975</td>\n",
       "      <td>0.457757</td>\n",
       "    </tr>\n",
       "    <tr>\n",
       "      <th>AVG_loudness</th>\n",
       "      <td>-0.098892</td>\n",
       "      <td>0.838498</td>\n",
       "      <td>1.000000</td>\n",
       "      <td>-0.094252</td>\n",
       "      <td>-0.100901</td>\n",
       "      <td>0.481026</td>\n",
       "      <td>0.304188</td>\n",
       "      <td>0.340191</td>\n",
       "    </tr>\n",
       "    <tr>\n",
       "      <th>AVG_speechiness</th>\n",
       "      <td>0.599349</td>\n",
       "      <td>-0.093451</td>\n",
       "      <td>-0.094252</td>\n",
       "      <td>1.000000</td>\n",
       "      <td>-0.280593</td>\n",
       "      <td>0.107613</td>\n",
       "      <td>-0.193427</td>\n",
       "      <td>0.048977</td>\n",
       "    </tr>\n",
       "    <tr>\n",
       "      <th>AVG_instrumentalness</th>\n",
       "      <td>-0.209370</td>\n",
       "      <td>0.284740</td>\n",
       "      <td>-0.100901</td>\n",
       "      <td>-0.280593</td>\n",
       "      <td>1.000000</td>\n",
       "      <td>0.119864</td>\n",
       "      <td>-0.193749</td>\n",
       "      <td>0.160023</td>\n",
       "    </tr>\n",
       "    <tr>\n",
       "      <th>AVG_liveness</th>\n",
       "      <td>-0.416902</td>\n",
       "      <td>0.686431</td>\n",
       "      <td>0.481026</td>\n",
       "      <td>0.107613</td>\n",
       "      <td>0.119864</td>\n",
       "      <td>1.000000</td>\n",
       "      <td>-0.134581</td>\n",
       "      <td>0.470849</td>\n",
       "    </tr>\n",
       "    <tr>\n",
       "      <th>AVG_valence</th>\n",
       "      <td>0.315193</td>\n",
       "      <td>0.179975</td>\n",
       "      <td>0.304188</td>\n",
       "      <td>-0.193427</td>\n",
       "      <td>-0.193749</td>\n",
       "      <td>-0.134581</td>\n",
       "      <td>1.000000</td>\n",
       "      <td>-0.272144</td>\n",
       "    </tr>\n",
       "    <tr>\n",
       "      <th>AVG_tempo</th>\n",
       "      <td>-0.304895</td>\n",
       "      <td>0.457757</td>\n",
       "      <td>0.340191</td>\n",
       "      <td>0.048977</td>\n",
       "      <td>0.160023</td>\n",
       "      <td>0.470849</td>\n",
       "      <td>-0.272144</td>\n",
       "      <td>1.000000</td>\n",
       "    </tr>\n",
       "  </tbody>\n",
       "</table>\n",
       "</div>"
      ],
      "text/plain": [
       "                      AVG_danceability  AVG_energy  AVG_loudness  \\\n",
       "AVG_danceability              1.000000   -0.237738     -0.098892   \n",
       "AVG_energy                   -0.237738    1.000000      0.838498   \n",
       "AVG_loudness                 -0.098892    0.838498      1.000000   \n",
       "AVG_speechiness               0.599349   -0.093451     -0.094252   \n",
       "AVG_instrumentalness         -0.209370    0.284740     -0.100901   \n",
       "AVG_liveness                 -0.416902    0.686431      0.481026   \n",
       "AVG_valence                   0.315193    0.179975      0.304188   \n",
       "AVG_tempo                    -0.304895    0.457757      0.340191   \n",
       "\n",
       "                      AVG_speechiness  AVG_instrumentalness  AVG_liveness  \\\n",
       "AVG_danceability             0.599349             -0.209370     -0.416902   \n",
       "AVG_energy                  -0.093451              0.284740      0.686431   \n",
       "AVG_loudness                -0.094252             -0.100901      0.481026   \n",
       "AVG_speechiness              1.000000             -0.280593      0.107613   \n",
       "AVG_instrumentalness        -0.280593              1.000000      0.119864   \n",
       "AVG_liveness                 0.107613              0.119864      1.000000   \n",
       "AVG_valence                 -0.193427             -0.193749     -0.134581   \n",
       "AVG_tempo                    0.048977              0.160023      0.470849   \n",
       "\n",
       "                      AVG_valence  AVG_tempo  \n",
       "AVG_danceability         0.315193  -0.304895  \n",
       "AVG_energy               0.179975   0.457757  \n",
       "AVG_loudness             0.304188   0.340191  \n",
       "AVG_speechiness         -0.193427   0.048977  \n",
       "AVG_instrumentalness    -0.193749   0.160023  \n",
       "AVG_liveness            -0.134581   0.470849  \n",
       "AVG_valence              1.000000  -0.272144  \n",
       "AVG_tempo               -0.272144   1.000000  "
      ]
     },
     "execution_count": 9,
     "metadata": {},
     "output_type": "execute_result"
    }
   ],
   "source": [
    "# find a correlation a matrix, put correlation n  a variable \n",
    "corr_matrix = pd.DataFrame(features_normal).corr()\n",
    "\n",
    "# print results\n",
    "corr_matrix"
   ]
  },
  {
   "cell_type": "code",
   "execution_count": 10,
   "id": "bfffe1ff-23ac-46d1-bf0e-5be6c04c00a1",
   "metadata": {
    "scrolled": true,
    "tags": []
   },
   "outputs": [
    {
     "data": {
      "image/png": "[encoded data removed]",
      "text/plain": [
       "<Figure size 1000x800 with 2 Axes>"
      ]
     },
     "metadata": {},
     "output_type": "display_data"
    }
   ],
   "source": [
    "# Create a heatmap with customized styles\n",
    "plt.figure(figsize=(10, 8), facecolor='black') # Set the size of the heatmap and background color\n",
    "fig = plt.gcf()\n",
    "fig.patch.set_facecolor('black') # Set background color\n",
    "heatmap = sns.heatmap(corr_matrix, annot=True, cmap='YlGn', fmt=\".2f\", linewidths=.5, linecolor='white') # 'YlGn' colormap for green colors\n",
    "plt.title('Correlation Heatmap', fontsize=14, fontweight='bold', color='white') # Set the title of the heatmap\n",
    "plt.xticks(fontweight='bold', color='white') # Customize x-axis labels\n",
    "plt.yticks(fontweight='bold', color='white') # Customize y-axis labels\n",
    "\n",
    "# Customize color bar labels\n",
    "cbar = heatmap.collections[0].colorbar\n",
    "cbar.ax.tick_params(labelsize=10, colors='white') # Customize color bar label size and color\n",
    "\n",
    "# print results\n",
    "plt.show()"
   ]
  },
  {
   "cell_type": "code",
   "execution_count": 11,
   "id": "bd278bed-b80c-4222-a8fb-4c36652fd43f",
   "metadata": {
    "tags": []
   },
   "outputs": [
    {
     "name": "stderr",
     "output_type": "stream",
     "text": [
      "/Users/sebastianvanhemert/anaconda3/lib/python3.11/site-packages/sklearn/cluster/_kmeans.py:870: FutureWarning: The default value of `n_init` will change from 10 to 'auto' in 1.4. Set the value of `n_init` explicitly to suppress the warning\n",
      "  warnings.warn(\n",
      "/Users/sebastianvanhemert/anaconda3/lib/python3.11/site-packages/sklearn/cluster/_kmeans.py:870: FutureWarning: The default value of `n_init` will change from 10 to 'auto' in 1.4. Set the value of `n_init` explicitly to suppress the warning\n",
      "  warnings.warn(\n",
      "/Users/sebastianvanhemert/anaconda3/lib/python3.11/site-packages/sklearn/cluster/_kmeans.py:870: FutureWarning: The default value of `n_init` will change from 10 to 'auto' in 1.4. Set the value of `n_init` explicitly to suppress the warning\n",
      "  warnings.warn(\n",
      "/Users/sebastianvanhemert/anaconda3/lib/python3.11/site-packages/sklearn/cluster/_kmeans.py:870: FutureWarning: The default value of `n_init` will change from 10 to 'auto' in 1.4. Set the value of `n_init` explicitly to suppress the warning\n",
      "  warnings.warn(\n",
      "/Users/sebastianvanhemert/anaconda3/lib/python3.11/site-packages/sklearn/cluster/_kmeans.py:870: FutureWarning: The default value of `n_init` will change from 10 to 'auto' in 1.4. Set the value of `n_init` explicitly to suppress the warning\n",
      "  warnings.warn(\n",
      "/Users/sebastianvanhemert/anaconda3/lib/python3.11/site-packages/sklearn/cluster/_kmeans.py:870: FutureWarning: The default value of `n_init` will change from 10 to 'auto' in 1.4. Set the value of `n_init` explicitly to suppress the warning\n",
      "  warnings.warn(\n",
      "/Users/sebastianvanhemert/anaconda3/lib/python3.11/site-packages/sklearn/cluster/_kmeans.py:870: FutureWarning: The default value of `n_init` will change from 10 to 'auto' in 1.4. Set the value of `n_init` explicitly to suppress the warning\n",
      "  warnings.warn(\n",
      "/Users/sebastianvanhemert/anaconda3/lib/python3.11/site-packages/sklearn/cluster/_kmeans.py:870: FutureWarning: The default value of `n_init` will change from 10 to 'auto' in 1.4. Set the value of `n_init` explicitly to suppress the warning\n",
      "  warnings.warn(\n",
      "/Users/sebastianvanhemert/anaconda3/lib/python3.11/site-packages/sklearn/cluster/_kmeans.py:870: FutureWarning: The default value of `n_init` will change from 10 to 'auto' in 1.4. Set the value of `n_init` explicitly to suppress the warning\n",
      "  warnings.warn(\n"
     ]
    },
    {
     "data": {
      "image/png": "[encoded data removed]",
      "text/plain": [
       "<Figure size 1000x600 with 1 Axes>"
      ]
     },
     "metadata": {},
     "output_type": "display_data"
    }
   ],
   "source": [
    "# Use the elbow method to determine the optimal number of clusters\n",
    "\n",
    "# Create a variable to hold the inertia\n",
    "inertia = []\n",
    "\n",
    "# Create a variable to loop through the range of 1-10\n",
    "K = np.arange(1, 10)\n",
    "\n",
    "# Loop through each value of K\n",
    "for k in K:\n",
    "    # Use KMeans function and .fit object to apply KMeans\n",
    "    kmeanModel = KMeans(n_clusters=k).fit(features_normal)\n",
    "    # Append inertia features\n",
    "    inertia.append(kmeanModel.inertia_)\n",
    "\n",
    "# Plot the elbow graph\n",
    "plt.figure(figsize=(10, 6), facecolor='black')  # Set the size and background color of the plot\n",
    "plt.plot(K, inertia, 'gx-', markersize=10)  # Change color to green and marker to 'x'\n",
    "plt.xlabel('Number of clusters (k)', fontsize=12, fontweight='bold', color='white')  # Customize x-axis label\n",
    "plt.ylabel('Inertia', fontsize=12, fontweight='bold', color='white')  # Customize y-axis label\n",
    "plt.title('Elbow Method for Optimal Cluster', fontsize=14, fontweight='bold', color='white')  # Set the title\n",
    "\n",
    "# Add annotation for optimal point\n",
    "optimal_k = 5  # Update with your optimal k value\n",
    "plt.annotate('Optimal Point', xy=(optimal_k, inertia[optimal_k-1]), xytext=(optimal_k, inertia[optimal_k-1]+3),\n",
    "             arrowprops=dict(arrowstyle='->', color='lightgreen', shrinkA=0, shrinkB=5, lw=5),\n",
    "             color='black', fontsize=14, fontweight='bold')\n",
    "\n",
    "# Customize tick labels\n",
    "plt.xticks(fontweight='bold', color='white')  # Customize x-axis tick labels\n",
    "plt.yticks(fontweight='bold', color='white')  # Customize y-axis tick labels\n",
    "\n",
    "plt.show()"
   ]
  },
  {
   "cell_type": "markdown",
   "id": "0653ee45-8376-411d-8796-8bd4d7fd1cbb",
   "metadata": {
    "tags": []
   },
   "source": [
    "## Cluster Modeling"
   ]
  },
  {
   "cell_type": "code",
   "execution_count": 35,
   "id": "bc21dc31-61dd-44b3-863b-319f80daeb61",
   "metadata": {
    "tags": []
   },
   "outputs": [
    {
     "name": "stdout",
     "output_type": "stream",
     "text": [
      "[2 0 1 3]\n"
     ]
    },
    {
     "name": "stderr",
     "output_type": "stream",
     "text": [
      "/Users/sebastianvanhemert/anaconda3/lib/python3.11/site-packages/sklearn/cluster/_kmeans.py:870: FutureWarning:\n",
      "\n",
      "The default value of `n_init` will change from 10 to 'auto' in 1.4. Set the value of `n_init` explicitly to suppress the warning\n",
      "\n"
     ]
    },
    {
     "data": {
      "text/html": [
       "<div>\n",
       "<style scoped>\n",
       "    .dataframe tbody tr th:only-of-type {\n",
       "        vertical-align: middle;\n",
       "    }\n",
       "\n",
       "    .dataframe tbody tr th {\n",
       "        vertical-align: top;\n",
       "    }\n",
       "\n",
       "    .dataframe thead th {\n",
       "        text-align: right;\n",
       "    }\n",
       "</style>\n",
       "<table border=\"1\" class=\"dataframe\">\n",
       "  <thead>\n",
       "    <tr style=\"text-align: right;\">\n",
       "      <th></th>\n",
       "      <th>AVG_danceability</th>\n",
       "      <th>AVG_energy</th>\n",
       "      <th>AVG_loudness</th>\n",
       "      <th>AVG_speechiness</th>\n",
       "      <th>AVG_instrumentalness</th>\n",
       "      <th>AVG_liveness</th>\n",
       "      <th>AVG_valence</th>\n",
       "      <th>AVG_tempo</th>\n",
       "      <th>cluster</th>\n",
       "      <th>playlist_name</th>\n",
       "    </tr>\n",
       "  </thead>\n",
       "  <tbody>\n",
       "    <tr>\n",
       "      <th>0</th>\n",
       "      <td>0.709474</td>\n",
       "      <td>0.475596</td>\n",
       "      <td>0.687080</td>\n",
       "      <td>0.337578</td>\n",
       "      <td>0.019871</td>\n",
       "      <td>0.344405</td>\n",
       "      <td>0.596443</td>\n",
       "      <td>0.782897</td>\n",
       "      <td>2</td>\n",
       "      <td>Viral 50 - USA</td>\n",
       "    </tr>\n",
       "    <tr>\n",
       "      <th>1</th>\n",
       "      <td>0.716711</td>\n",
       "      <td>0.525039</td>\n",
       "      <td>0.757747</td>\n",
       "      <td>0.375958</td>\n",
       "      <td>0.010384</td>\n",
       "      <td>0.440101</td>\n",
       "      <td>0.771465</td>\n",
       "      <td>0.524889</td>\n",
       "      <td>0</td>\n",
       "      <td>Viral 50 - Global</td>\n",
       "    </tr>\n",
       "    <tr>\n",
       "      <th>2</th>\n",
       "      <td>0.647821</td>\n",
       "      <td>0.420672</td>\n",
       "      <td>0.639514</td>\n",
       "      <td>0.203939</td>\n",
       "      <td>0.013741</td>\n",
       "      <td>0.115055</td>\n",
       "      <td>0.514398</td>\n",
       "      <td>0.790306</td>\n",
       "      <td>2</td>\n",
       "      <td>Top 50 - USA</td>\n",
       "    </tr>\n",
       "    <tr>\n",
       "      <th>3</th>\n",
       "      <td>0.646243</td>\n",
       "      <td>0.475169</td>\n",
       "      <td>0.651680</td>\n",
       "      <td>0.211997</td>\n",
       "      <td>0.032687</td>\n",
       "      <td>0.127872</td>\n",
       "      <td>0.574366</td>\n",
       "      <td>0.587212</td>\n",
       "      <td>0</td>\n",
       "      <td>Top 50 - Global</td>\n",
       "    </tr>\n",
       "    <tr>\n",
       "      <th>4</th>\n",
       "      <td>0.255918</td>\n",
       "      <td>0.000000</td>\n",
       "      <td>0.234014</td>\n",
       "      <td>0.069036</td>\n",
       "      <td>0.103397</td>\n",
       "      <td>0.000000</td>\n",
       "      <td>0.000000</td>\n",
       "      <td>0.329359</td>\n",
       "      <td>1</td>\n",
       "      <td>sad hour</td>\n",
       "    </tr>\n",
       "  </tbody>\n",
       "</table>\n",
       "</div>"
      ],
      "text/plain": [
       "   AVG_danceability  AVG_energy  AVG_loudness  AVG_speechiness  \\\n",
       "0          0.709474    0.475596      0.687080         0.337578   \n",
       "1          0.716711    0.525039      0.757747         0.375958   \n",
       "2          0.647821    0.420672      0.639514         0.203939   \n",
       "3          0.646243    0.475169      0.651680         0.211997   \n",
       "4          0.255918    0.000000      0.234014         0.069036   \n",
       "\n",
       "   AVG_instrumentalness  AVG_liveness  AVG_valence  AVG_tempo  cluster  \\\n",
       "0              0.019871      0.344405     0.596443   0.782897        2   \n",
       "1              0.010384      0.440101     0.771465   0.524889        0   \n",
       "2              0.013741      0.115055     0.514398   0.790306        2   \n",
       "3              0.032687      0.127872     0.574366   0.587212        0   \n",
       "4              0.103397      0.000000     0.000000   0.329359        1   \n",
       "\n",
       "       playlist_name  \n",
       "0     Viral 50 - USA  \n",
       "1  Viral 50 - Global  \n",
       "2       Top 50 - USA  \n",
       "3    Top 50 - Global  \n",
       "4           sad hour  "
      ]
     },
     "execution_count": 35,
     "metadata": {},
     "output_type": "execute_result"
    }
   ],
   "source": [
    "# Run KMeans clustering\n",
    "kmeans = KMeans(n_clusters=4, random_state=99)\n",
    "kmeans.fit(features_normal)\n",
    "\n",
    "# Add cluster labels to features_normal DataFrame\n",
    "labels = kmeans.labels_\n",
    "features_normal['cluster'] = labels\n",
    "\n",
    "# Merge the playlist_name column back to the features_normal DataFrame\n",
    "features_with_playlist = pd.concat([features_normal, df['playlist_name']], axis=1)\n",
    "\n",
    "# Now you can access the 'cluster' column to see the assigned clusters\n",
    "print(features_normal.cluster.unique()) # check the 4 clusters, its 0-3 in based indexing\n",
    "features_with_playlist.head()"
   ]
  },
  {
   "cell_type": "markdown",
   "id": "5b1f9cf5-306c-43a6-8eff-e1d328435f37",
   "metadata": {
    "tags": []
   },
   "source": [
    "## Plot Model"
   ]
  },
  {
   "cell_type": "markdown",
   "id": "122bacc8-7da6-4377-8c8a-25892b9bc003",
   "metadata": {},
   "source": [
    "### Using Matplotlib"
   ]
  },
  {
   "cell_type": "code",
   "execution_count": 36,
   "id": "cebaa091-0044-4688-b189-a3ea24c91148",
   "metadata": {
    "tags": []
   },
   "outputs": [
    {
     "data": {
      "image/png": "[encoded data removed]",
      "text/plain": [
       "<Figure size 800x600 with 1 Axes>"
      ]
     },
     "metadata": {},
     "output_type": "display_data"
    }
   ],
   "source": [
    "# Perform PCA to reduce dimensionality to 2 components\n",
    "pca = PCA(n_components=2)\n",
    "features_pca = pca.fit_transform(features_normal)\n",
    "\n",
    "# Create a figure with a black background\n",
    "fig = plt.figure(figsize=(8, 6), facecolor='black')\n",
    "ax = fig.add_subplot(111, facecolor='lightgrey') # Set inner background to grey\n",
    "\n",
    "# Plot the clusters\n",
    "scatter = ax.scatter(features_pca[:, 0], features_pca[:, 1], c=labels, cmap='Greens', alpha=0.7, s=100)\n",
    "\n",
    "# Customize plot\n",
    "ax.set_xlabel('Audio Features', color='white') # Set x-axis label color to white\n",
    "ax.set_ylabel('Audio Features', color='white') # Set y-axis label color to white\n",
    "ax.set_title('Audio Features Clustered by Playlist', color='white') # Set title color to white\n",
    "\n",
    "# Customize tick colors\n",
    "ax.tick_params(axis='x', colors='white')\n",
    "ax.tick_params(axis='y', colors='white')\n",
    "\n",
    "plt.show()"
   ]
  },
  {
   "cell_type": "markdown",
   "id": "45ab0265-03cc-4719-af69-9c1b55a7737d",
   "metadata": {},
   "source": [
    "### Using Plotly"
   ]
  },
  {
   "cell_type": "code",
   "execution_count": 37,
   "id": "97f474d6-6cf5-427e-b2f7-5e4ba7c71766",
   "metadata": {
    "tags": []
   },
   "outputs": [
    {
     "data": {
      "application/vnd.plotly.v1+json": {
       "config": {
        "plotlyServerURL": "https://plot.ly"
       },
       "data": [
        {
         "marker": {
          "color": [
           2,
           0,
           2,
           0,
           1,
           3,
           0,
           2,
           1,
           0,
           1,
           0,
           2,
           0,
           3,
           3,
           0,
           2,
           0,
           0,
           1,
           2,
           0,
           0,
           0,
           0,
           1,
           0,
           0,
           2,
           0,
           0,
           2,
           1,
           0,
           2,
           0,
           3,
           2,
           0,
           1,
           0,
           0,
           1,
           2,
           0
          ],
          "colorscale": [
           [
            0,
            "rgb(247,252,245)"
           ],
           [
            0.125,
            "rgb(229,245,224)"
           ],
           [
            0.25,
            "rgb(199,233,192)"
           ],
           [
            0.375,
            "rgb(161,217,155)"
           ],
           [
            0.5,
            "rgb(116,196,118)"
           ],
           [
            0.625,
            "rgb(65,171,93)"
           ],
           [
            0.75,
            "rgb(35,139,69)"
           ],
           [
            0.875,
            "rgb(0,109,44)"
           ],
           [
            1,
            "rgb(0,68,27)"
           ]
          ],
          "opacity": 0.7,
          "size": 10
         },
         "mode": "markers",
         "showlegend": false,
         "text": [
          "Viral 50 - USA",
          "Viral 50 - Global",
          "Top 50 - USA",
          "Top 50 - Global",
          "sad hour",
          "Westside Story",
          "New Noise",
          "Alternative Hip-Hop",
          "Fuego #052 - Regina's Fan Mixtape",
          "Pop Rising",
          "Gulf & Western",
          "ALT NOW",
          "Country Rocks",
          "Alternative Beats",
          "Baila Reggaeton",
          "African Heat",
          "Fresh Finds Country",
          "The Scene",
          "All New Rock",
          "Hot Hits USA",
          "Chill Pop",
          "RapCaviar",
          "Viva Latino",
          "New Pop Picks",
          "Hot Country",
          "Signed XOXO",
          "Front Page Indie",
          "it's alt good",
          "Today's Indie Rock",
          "mint",
          "K-Pop Rising",
          "RNB X",
          "New Joints",
          "Yalla ",
          "Soak Up The Sun",
          "Feelin' Myself",
          "The New Alt",
          "Fuego",
          "Dance Rising",
          "CST",
          "Spring Pop 🌸",
          "K-Pop ON! (온)",
          "MARROW",
          "bossa pop",
          "Homegrown + Heavy",
          "Billboard Hot 100"
         ],
         "type": "scatter",
         "x": [
          1.0845745836670702,
          -0.8932757042453978,
          1.067427767599598,
          -0.9113232980409597,
          0.061927199786878016,
          2.1640343254799013,
          -0.9420022847182119,
          1.127723474431855,
          0.1264015144095259,
          -0.926370442781541,
          0.05844659120552782,
          -0.9399598206423453,
          1.0268486172790687,
          -0.9193414666310231,
          2.1006326359649017,
          2.1107576658198908,
          -0.9524407184810311,
          1.0314762472586356,
          -0.9484758826388462,
          -0.9102827074149169,
          0.06459380410292194,
          1.142076759061284,
          -0.8990325858957566,
          -0.9228238146833512,
          -0.94819164703559,
          -0.8432780195403778,
          0.06274154011056342,
          -0.9348229696945068,
          -0.942033583806088,
          1.094073724110941,
          -0.9069290274532263,
          -0.9069142556380525,
          1.147493870814559,
          0.07903914425874846,
          -0.9319159513797836,
          1.1425922765014842,
          -0.939618478322903,
          2.0992762678901293,
          1.0948518942588659,
          -0.8248886274913773,
          0.07331084085225043,
          -0.8998383091137322,
          -0.9413871983387863,
          0.0783585583612522,
          1.042366442508362,
          -0.8958789517464086
         ],
         "y": [
          0.009729582608985791,
          -0.128928304826671,
          -0.08522002153611415,
          -0.23308049722033483,
          -0.401438568427454,
          -0.4977750329114045,
          0.5445895173096365,
          -0.030750047888907353,
          -0.31633905856208505,
          -0.15576515941021638,
          -0.35751361275019816,
          0.14788740911898762,
          0.5848827723125255,
          0.2665008832448686,
          -0.20222774908101773,
          -0.40640547026173235,
          -0.03185616825227047,
          0.9925622925156556,
          0.5637701366016912,
          -0.16512289085913884,
          -0.3296864152955672,
          -0.08187058477512159,
          -0.24760310964001903,
          -0.13282607342569097,
          0.11348105369861626,
          -0.28923013667835157,
          0.02742230065675054,
          0.1525168193306228,
          0.11861614681370951,
          0.2981865540648262,
          -0.08424712381773321,
          -0.19039277487033013,
          0.04313968757632406,
          -0.188181832467823,
          0.05981750521991993,
          -0.22098303449487708,
          0.2364437725189426,
          -0.07026736206622144,
          0.45969768444598114,
          -0.3754734023052556,
          -0.18342372857383818,
          -0.10859919320453015,
          0.502892393129617,
          -0.5668050517975168,
          1.1091688123645453,
          -0.14929291813178694
         ]
        }
       ],
       "layout": {
        "autosize": true,
        "template": {
         "data": {
          "bar": [
           {
            "error_x": {
             "color": "#2a3f5f"
            },
            "error_y": {
             "color": "#2a3f5f"
            },
            "marker": {
             "line": {
              "color": "#E5ECF6",
              "width": 0.5
             },
             "pattern": {
              "fillmode": "overlay",
              "size": 10,
              "solidity": 0.2
             }
            },
            "type": "bar"
           }
          ],
          "barpolar": [
           {
            "marker": {
             "line": {
              "color": "#E5ECF6",
              "width": 0.5
             },
             "pattern": {
              "fillmode": "overlay",
              "size": 10,
              "solidity": 0.2
             }
            },
            "type": "barpolar"
           }
          ],
          "carpet": [
           {
            "aaxis": {
             "endlinecolor": "#2a3f5f",
             "gridcolor": "white",
             "linecolor": "white",
             "minorgridcolor": "white",
             "startlinecolor": "#2a3f5f"
            },
            "baxis": {
             "endlinecolor": "#2a3f5f",
             "gridcolor": "white",
             "linecolor": "white",
             "minorgridcolor": "white",
             "startlinecolor": "#2a3f5f"
            },
            "type": "carpet"
           }
          ],
          "choropleth": [
           {
            "colorbar": {
             "outlinewidth": 0,
             "ticks": ""
            },
            "type": "choropleth"
           }
          ],
          "contour": [
           {
            "colorbar": {
             "outlinewidth": 0,
             "ticks": ""
            },
            "colorscale": [
             [
              0,
              "#0d0887"
             ],
             [
              0.1111111111111111,
              "#46039f"
             ],
             [
              0.2222222222222222,
              "#7201a8"
             ],
             [
              0.3333333333333333,
              "#9c179e"
             ],
             [
              0.4444444444444444,
              "#bd3786"
             ],
             [
              0.5555555555555556,
              "#d8576b"
             ],
             [
              0.6666666666666666,
              "#ed7953"
             ],
             [
              0.7777777777777778,
              "#fb9f3a"
             ],
             [
              0.8888888888888888,
              "#fdca26"
             ],
             [
              1,
              "#f0f921"
             ]
            ],
            "type": "contour"
           }
          ],
          "contourcarpet": [
           {
            "colorbar": {
             "outlinewidth": 0,
             "ticks": ""
            },
            "type": "contourcarpet"
           }
          ],
          "heatmap": [
           {
            "colorbar": {
             "outlinewidth": 0,
             "ticks": ""
            },
            "colorscale": [
             [
              0,
              "#0d0887"
             ],
             [
              0.1111111111111111,
              "#46039f"
             ],
             [
              0.2222222222222222,
              "#7201a8"
             ],
             [
              0.3333333333333333,
              "#9c179e"
             ],
             [
              0.4444444444444444,
              "#bd3786"
             ],
             [
              0.5555555555555556,
              "#d8576b"
             ],
             [
              0.6666666666666666,
              "#ed7953"
             ],
             [
              0.7777777777777778,
              "#fb9f3a"
             ],
             [
              0.8888888888888888,
              "#fdca26"
             ],
             [
              1,
              "#f0f921"
             ]
            ],
            "type": "heatmap"
           }
          ],
          "heatmapgl": [
           {
            "colorbar": {
             "outlinewidth": 0,
             "ticks": ""
            },
            "colorscale": [
             [
              0,
              "#0d0887"
             ],
             [
              0.1111111111111111,
              "#46039f"
             ],
             [
              0.2222222222222222,
              "#7201a8"
             ],
             [
              0.3333333333333333,
              "#9c179e"
             ],
             [
              0.4444444444444444,
              "#bd3786"
             ],
             [
              0.5555555555555556,
              "#d8576b"
             ],
             [
              0.6666666666666666,
              "#ed7953"
             ],
             [
              0.7777777777777778,
              "#fb9f3a"
             ],
             [
              0.8888888888888888,
              "#fdca26"
             ],
             [
              1,
              "#f0f921"
             ]
            ],
            "type": "heatmapgl"
           }
          ],
          "histogram": [
           {
            "marker": {
             "pattern": {
              "fillmode": "overlay",
              "size": 10,
              "solidity": 0.2
             }
            },
            "type": "histogram"
           }
          ],
          "histogram2d": [
           {
            "colorbar": {
             "outlinewidth": 0,
             "ticks": ""
            },
            "colorscale": [
             [
              0,
              "#0d0887"
             ],
             [
              0.1111111111111111,
              "#46039f"
             ],
             [
              0.2222222222222222,
              "#7201a8"
             ],
             [
              0.3333333333333333,
              "#9c179e"
             ],
             [
              0.4444444444444444,
              "#bd3786"
             ],
             [
              0.5555555555555556,
              "#d8576b"
             ],
             [
              0.6666666666666666,
              "#ed7953"
             ],
             [
              0.7777777777777778,
              "#fb9f3a"
             ],
             [
              0.8888888888888888,
              "#fdca26"
             ],
             [
              1,
              "#f0f921"
             ]
            ],
            "type": "histogram2d"
           }
          ],
          "histogram2dcontour": [
           {
            "colorbar": {
             "outlinewidth": 0,
             "ticks": ""
            },
            "colorscale": [
             [
              0,
              "#0d0887"
             ],
             [
              0.1111111111111111,
              "#46039f"
             ],
             [
              0.2222222222222222,
              "#7201a8"
             ],
             [
              0.3333333333333333,
              "#9c179e"
             ],
             [
              0.4444444444444444,
              "#bd3786"
             ],
             [
              0.5555555555555556,
              "#d8576b"
             ],
             [
              0.6666666666666666,
              "#ed7953"
             ],
             [
              0.7777777777777778,
              "#fb9f3a"
             ],
             [
              0.8888888888888888,
              "#fdca26"
             ],
             [
              1,
              "#f0f921"
             ]
            ],
            "type": "histogram2dcontour"
           }
          ],
          "mesh3d": [
           {
            "colorbar": {
             "outlinewidth": 0,
             "ticks": ""
            },
            "type": "mesh3d"
           }
          ],
          "parcoords": [
           {
            "line": {
             "colorbar": {
              "outlinewidth": 0,
              "ticks": ""
             }
            },
            "type": "parcoords"
           }
          ],
          "pie": [
           {
            "automargin": true,
            "type": "pie"
           }
          ],
          "scatter": [
           {
            "fillpattern": {
             "fillmode": "overlay",
             "size": 10,
             "solidity": 0.2
            },
            "type": "scatter"
           }
          ],
          "scatter3d": [
           {
            "line": {
             "colorbar": {
              "outlinewidth": 0,
              "ticks": ""
             }
            },
            "marker": {
             "colorbar": {
              "outlinewidth": 0,
              "ticks": ""
             }
            },
            "type": "scatter3d"
           }
          ],
          "scattercarpet": [
           {
            "marker": {
             "colorbar": {
              "outlinewidth": 0,
              "ticks": ""
             }
            },
            "type": "scattercarpet"
           }
          ],
          "scattergeo": [
           {
            "marker": {
             "colorbar": {
              "outlinewidth": 0,
              "ticks": ""
             }
            },
            "type": "scattergeo"
           }
          ],
          "scattergl": [
           {
            "marker": {
             "colorbar": {
              "outlinewidth": 0,
              "ticks": ""
             }
            },
            "type": "scattergl"
           }
          ],
          "scattermapbox": [
           {
            "marker": {
             "colorbar": {
              "outlinewidth": 0,
              "ticks": ""
             }
            },
            "type": "scattermapbox"
           }
          ],
          "scatterpolar": [
           {
            "marker": {
             "colorbar": {
              "outlinewidth": 0,
              "ticks": ""
             }
            },
            "type": "scatterpolar"
           }
          ],
          "scatterpolargl": [
           {
            "marker": {
             "colorbar": {
              "outlinewidth": 0,
              "ticks": ""
             }
            },
            "type": "scatterpolargl"
           }
          ],
          "scatterternary": [
           {
            "marker": {
             "colorbar": {
              "outlinewidth": 0,
              "ticks": ""
             }
            },
            "type": "scatterternary"
           }
          ],
          "surface": [
           {
            "colorbar": {
             "outlinewidth": 0,
             "ticks": ""
            },
            "colorscale": [
             [
              0,
              "#0d0887"
             ],
             [
              0.1111111111111111,
              "#46039f"
             ],
             [
              0.2222222222222222,
              "#7201a8"
             ],
             [
              0.3333333333333333,
              "#9c179e"
             ],
             [
              0.4444444444444444,
              "#bd3786"
             ],
             [
              0.5555555555555556,
              "#d8576b"
             ],
             [
              0.6666666666666666,
              "#ed7953"
             ],
             [
              0.7777777777777778,
              "#fb9f3a"
             ],
             [
              0.8888888888888888,
              "#fdca26"
             ],
             [
              1,
              "#f0f921"
             ]
            ],
            "type": "surface"
           }
          ],
          "table": [
           {
            "cells": {
             "fill": {
              "color": "#EBF0F8"
             },
             "line": {
              "color": "white"
             }
            },
            "header": {
             "fill": {
              "color": "#C8D4E3"
             },
             "line": {
              "color": "white"
             }
            },
            "type": "table"
           }
          ]
         },
         "layout": {
          "annotationdefaults": {
           "arrowcolor": "#2a3f5f",
           "arrowhead": 0,
           "arrowwidth": 1
          },
          "autotypenumbers": "strict",
          "coloraxis": {
           "colorbar": {
            "outlinewidth": 0,
            "ticks": ""
           }
          },
          "colorscale": {
           "diverging": [
            [
             0,
             "#8e0152"
            ],
            [
             0.1,
             "#c51b7d"
            ],
            [
             0.2,
             "#de77ae"
            ],
            [
             0.3,
             "#f1b6da"
            ],
            [
             0.4,
             "#fde0ef"
            ],
            [
             0.5,
             "#f7f7f7"
            ],
            [
             0.6,
             "#e6f5d0"
            ],
            [
             0.7,
             "#b8e186"
            ],
            [
             0.8,
             "#7fbc41"
            ],
            [
             0.9,
             "#4d9221"
            ],
            [
             1,
             "#276419"
            ]
           ],
           "sequential": [
            [
             0,
             "#0d0887"
            ],
            [
             0.1111111111111111,
             "#46039f"
            ],
            [
             0.2222222222222222,
             "#7201a8"
            ],
            [
             0.3333333333333333,
             "#9c179e"
            ],
            [
             0.4444444444444444,
             "#bd3786"
            ],
            [
             0.5555555555555556,
             "#d8576b"
            ],
            [
             0.6666666666666666,
             "#ed7953"
            ],
            [
             0.7777777777777778,
             "#fb9f3a"
            ],
            [
             0.8888888888888888,
             "#fdca26"
            ],
            [
             1,
             "#f0f921"
            ]
           ],
           "sequentialminus": [
            [
             0,
             "#0d0887"
            ],
            [
             0.1111111111111111,
             "#46039f"
            ],
            [
             0.2222222222222222,
             "#7201a8"
            ],
            [
             0.3333333333333333,
             "#9c179e"
            ],
            [
             0.4444444444444444,
             "#bd3786"
            ],
            [
             0.5555555555555556,
             "#d8576b"
            ],
            [
             0.6666666666666666,
             "#ed7953"
            ],
            [
             0.7777777777777778,
             "#fb9f3a"
            ],
            [
             0.8888888888888888,
             "#fdca26"
            ],
            [
             1,
             "#f0f921"
            ]
           ]
          },
          "colorway": [
           "#636efa",
           "#EF553B",
           "#00cc96",
           "#ab63fa",
           "#FFA15A",
           "#19d3f3",
           "#FF6692",
           "#B6E880",
           "#FF97FF",
           "#FECB52"
          ],
          "font": {
           "color": "#2a3f5f"
          },
          "geo": {
           "bgcolor": "white",
           "lakecolor": "white",
           "landcolor": "#E5ECF6",
           "showlakes": true,
           "showland": true,
           "subunitcolor": "white"
          },
          "hoverlabel": {
           "align": "left"
          },
          "hovermode": "closest",
          "mapbox": {
           "style": "light"
          },
          "paper_bgcolor": "white",
          "plot_bgcolor": "#E5ECF6",
          "polar": {
           "angularaxis": {
            "gridcolor": "white",
            "linecolor": "white",
            "ticks": ""
           },
           "bgcolor": "#E5ECF6",
           "radialaxis": {
            "gridcolor": "white",
            "linecolor": "white",
            "ticks": ""
           }
          },
          "scene": {
           "xaxis": {
            "backgroundcolor": "#E5ECF6",
            "gridcolor": "white",
            "gridwidth": 2,
            "linecolor": "white",
            "showbackground": true,
            "ticks": "",
            "zerolinecolor": "white"
           },
           "yaxis": {
            "backgroundcolor": "#E5ECF6",
            "gridcolor": "white",
            "gridwidth": 2,
            "linecolor": "white",
            "showbackground": true,
            "ticks": "",
            "zerolinecolor": "white"
           },
           "zaxis": {
            "backgroundcolor": "#E5ECF6",
            "gridcolor": "white",
            "gridwidth": 2,
            "linecolor": "white",
            "showbackground": true,
            "ticks": "",
            "zerolinecolor": "white"
           }
          },
          "shapedefaults": {
           "line": {
            "color": "#2a3f5f"
           }
          },
          "ternary": {
           "aaxis": {
            "gridcolor": "white",
            "linecolor": "white",
            "ticks": ""
           },
           "baxis": {
            "gridcolor": "white",
            "linecolor": "white",
            "ticks": ""
           },
           "bgcolor": "#E5ECF6",
           "caxis": {
            "gridcolor": "white",
            "linecolor": "white",
            "ticks": ""
           }
          },
          "title": {
           "x": 0.05
          },
          "xaxis": {
           "automargin": true,
           "gridcolor": "white",
           "linecolor": "white",
           "ticks": "",
           "title": {
            "standoff": 15
           },
           "zerolinecolor": "white",
           "zerolinewidth": 2
          },
          "yaxis": {
           "automargin": true,
           "gridcolor": "white",
           "linecolor": "white",
           "ticks": "",
           "title": {
            "standoff": 15
           },
           "zerolinecolor": "white",
           "zerolinewidth": 2
          }
         }
        },
        "title": {
         "text": "Audio Features Clustered by Playlist"
        },
        "xaxis": {
         "autorange": true,
         "range": [
          -1.151515646385055,
          2.3631092533839255
         ],
         "title": {
          "text": "Audio Features"
         },
         "type": "linear"
        },
        "yaxis": {
         "autorange": true,
         "range": [
          -0.7377655964695666,
          1.2801293570365953
         ],
         "title": {
          "text": "Audio Features"
         },
         "type": "linear"
        }
       }
      },
      "image/png": "[encoded data removed]",
      "text/html": [
       "<div>                            <div id=\"7177a2dc-38c1-43c3-8c90-07debfde0276\" class=\"plotly-graph-div\" style=\"height:525px; width:100%;\"></div>            <script type=\"text/javascript\">                require([\"plotly\"], function(Plotly) {                    window.PLOTLYENV=window.PLOTLYENV || {};                                    if (document.getElementById(\"7177a2dc-38c1-43c3-8c90-07debfde0276\")) {                    Plotly.newPlot(                        \"7177a2dc-38c1-43c3-8c90-07debfde0276\",                        [{\"marker\":{\"color\":[2,0,2,0,1,3,0,2,1,0,1,0,2,0,3,3,0,2,0,0,1,2,0,0,0,0,1,0,0,2,0,0,2,1,0,2,0,3,2,0,1,0,0,1,2,0],\"colorscale\":[[0.0,\"rgb(247,252,245)\"],[0.125,\"rgb(229,245,224)\"],[0.25,\"rgb(199,233,192)\"],[0.375,\"rgb(161,217,155)\"],[0.5,\"rgb(116,196,118)\"],[0.625,\"rgb(65,171,93)\"],[0.75,\"rgb(35,139,69)\"],[0.875,\"rgb(0,109,44)\"],[1.0,\"rgb(0,68,27)\"]],\"opacity\":0.7,\"size\":10},\"mode\":\"markers\",\"showlegend\":false,\"text\":[\"Viral 50 - USA\",\"Viral 50 - Global\",\"Top 50 - USA\",\"Top 50 - Global\",\"sad hour\",\"Westside Story\",\"New Noise\",\"Alternative Hip-Hop\",\"Fuego #052 - Regina's Fan Mixtape\",\"Pop Rising\",\"Gulf & Western\",\"ALT NOW\",\"Country Rocks\",\"Alternative Beats\",\"Baila Reggaeton\",\"African Heat\",\"Fresh Finds Country\",\"The Scene\",\"All New Rock\",\"Hot Hits USA\",\"Chill Pop\",\"RapCaviar\",\"Viva Latino\",\"New Pop Picks\",\"Hot Country\",\"Signed XOXO\",\"Front Page Indie\",\"it's alt good\",\"Today's Indie Rock\",\"mint\",\"K-Pop Rising\",\"RNB X\",\"New Joints\",\"Yalla \",\"Soak Up The Sun\",\"Feelin' Myself\",\"The New Alt\",\"Fuego\",\"Dance Rising\",\"CST\",\"Spring Pop \\ud83c\\udf38\",\"K-Pop ON! (\\uc628)\",\"MARROW\",\"bossa pop\",\"Homegrown + Heavy\",\"Billboard Hot 100\"],\"x\":[1.0845745836670702,-0.8932757042453978,1.067427767599598,-0.9113232980409597,0.061927199786878016,2.1640343254799013,-0.9420022847182119,1.127723474431855,0.1264015144095259,-0.926370442781541,0.05844659120552782,-0.9399598206423453,1.0268486172790687,-0.9193414666310231,2.1006326359649017,2.1107576658198908,-0.9524407184810311,1.0314762472586356,-0.9484758826388462,-0.9102827074149169,0.06459380410292194,1.142076759061284,-0.8990325858957566,-0.9228238146833512,-0.94819164703559,-0.8432780195403778,0.06274154011056342,-0.9348229696945068,-0.942033583806088,1.094073724110941,-0.9069290274532263,-0.9069142556380525,1.147493870814559,0.07903914425874846,-0.9319159513797836,1.1425922765014842,-0.939618478322903,2.0992762678901293,1.0948518942588659,-0.8248886274913773,0.07331084085225043,-0.8998383091137322,-0.9413871983387863,0.0783585583612522,1.042366442508362,-0.8958789517464086],\"y\":[0.009729582608985791,-0.128928304826671,-0.08522002153611415,-0.23308049722033483,-0.401438568427454,-0.4977750329114045,0.5445895173096365,-0.030750047888907353,-0.31633905856208505,-0.15576515941021638,-0.35751361275019816,0.14788740911898762,0.5848827723125255,0.2665008832448686,-0.20222774908101773,-0.40640547026173235,-0.03185616825227047,0.9925622925156556,0.5637701366016912,-0.16512289085913884,-0.3296864152955672,-0.08187058477512159,-0.24760310964001903,-0.13282607342569097,0.11348105369861626,-0.28923013667835157,0.02742230065675054,0.1525168193306228,0.11861614681370951,0.2981865540648262,-0.08424712381773321,-0.19039277487033013,0.04313968757632406,-0.188181832467823,0.05981750521991993,-0.22098303449487708,0.2364437725189426,-0.07026736206622144,0.45969768444598114,-0.3754734023052556,-0.18342372857383818,-0.10859919320453015,0.502892393129617,-0.5668050517975168,1.1091688123645453,-0.14929291813178694],\"type\":\"scatter\"}],                        {\"template\":{\"data\":{\"histogram2dcontour\":[{\"type\":\"histogram2dcontour\",\"colorbar\":{\"outlinewidth\":0,\"ticks\":\"\"},\"colorscale\":[[0.0,\"#0d0887\"],[0.1111111111111111,\"#46039f\"],[0.2222222222222222,\"#7201a8\"],[0.3333333333333333,\"#9c179e\"],[0.4444444444444444,\"#bd3786\"],[0.5555555555555556,\"#d8576b\"],[0.6666666666666666,\"#ed7953\"],[0.7777777777777778,\"#fb9f3a\"],[0.8888888888888888,\"#fdca26\"],[1.0,\"#f0f921\"]]}],\"choropleth\":[{\"type\":\"choropleth\",\"colorbar\":{\"outlinewidth\":0,\"ticks\":\"\"}}],\"histogram2d\":[{\"type\":\"histogram2d\",\"colorbar\":{\"outlinewidth\":0,\"ticks\":\"\"},\"colorscale\":[[0.0,\"#0d0887\"],[0.1111111111111111,\"#46039f\"],[0.2222222222222222,\"#7201a8\"],[0.3333333333333333,\"#9c179e\"],[0.4444444444444444,\"#bd3786\"],[0.5555555555555556,\"#d8576b\"],[0.6666666666666666,\"#ed7953\"],[0.7777777777777778,\"#fb9f3a\"],[0.8888888888888888,\"#fdca26\"],[1.0,\"#f0f921\"]]}],\"heatmap\":[{\"type\":\"heatmap\",\"colorbar\":{\"outlinewidth\":0,\"ticks\":\"\"},\"colorscale\":[[0.0,\"#0d0887\"],[0.1111111111111111,\"#46039f\"],[0.2222222222222222,\"#7201a8\"],[0.3333333333333333,\"#9c179e\"],[0.4444444444444444,\"#bd3786\"],[0.5555555555555556,\"#d8576b\"],[0.6666666666666666,\"#ed7953\"],[0.7777777777777778,\"#fb9f3a\"],[0.8888888888888888,\"#fdca26\"],[1.0,\"#f0f921\"]]}],\"heatmapgl\":[{\"type\":\"heatmapgl\",\"colorbar\":{\"outlinewidth\":0,\"ticks\":\"\"},\"colorscale\":[[0.0,\"#0d0887\"],[0.1111111111111111,\"#46039f\"],[0.2222222222222222,\"#7201a8\"],[0.3333333333333333,\"#9c179e\"],[0.4444444444444444,\"#bd3786\"],[0.5555555555555556,\"#d8576b\"],[0.6666666666666666,\"#ed7953\"],[0.7777777777777778,\"#fb9f3a\"],[0.8888888888888888,\"#fdca26\"],[1.0,\"#f0f921\"]]}],\"contourcarpet\":[{\"type\":\"contourcarpet\",\"colorbar\":{\"outlinewidth\":0,\"ticks\":\"\"}}],\"contour\":[{\"type\":\"contour\",\"colorbar\":{\"outlinewidth\":0,\"ticks\":\"\"},\"colorscale\":[[0.0,\"#0d0887\"],[0.1111111111111111,\"#46039f\"],[0.2222222222222222,\"#7201a8\"],[0.3333333333333333,\"#9c179e\"],[0.4444444444444444,\"#bd3786\"],[0.5555555555555556,\"#d8576b\"],[0.6666666666666666,\"#ed7953\"],[0.7777777777777778,\"#fb9f3a\"],[0.8888888888888888,\"#fdca26\"],[1.0,\"#f0f921\"]]}],\"surface\":[{\"type\":\"surface\",\"colorbar\":{\"outlinewidth\":0,\"ticks\":\"\"},\"colorscale\":[[0.0,\"#0d0887\"],[0.1111111111111111,\"#46039f\"],[0.2222222222222222,\"#7201a8\"],[0.3333333333333333,\"#9c179e\"],[0.4444444444444444,\"#bd3786\"],[0.5555555555555556,\"#d8576b\"],[0.6666666666666666,\"#ed7953\"],[0.7777777777777778,\"#fb9f3a\"],[0.8888888888888888,\"#fdca26\"],[1.0,\"#f0f921\"]]}],\"mesh3d\":[{\"type\":\"mesh3d\",\"colorbar\":{\"outlinewidth\":0,\"ticks\":\"\"}}],\"scatter\":[{\"fillpattern\":{\"fillmode\":\"overlay\",\"size\":10,\"solidity\":0.2},\"type\":\"scatter\"}],\"parcoords\":[{\"type\":\"parcoords\",\"line\":{\"colorbar\":{\"outlinewidth\":0,\"ticks\":\"\"}}}],\"scatterpolargl\":[{\"type\":\"scatterpolargl\",\"marker\":{\"colorbar\":{\"outlinewidth\":0,\"ticks\":\"\"}}}],\"bar\":[{\"error_x\":{\"color\":\"#2a3f5f\"},\"error_y\":{\"color\":\"#2a3f5f\"},\"marker\":{\"line\":{\"color\":\"#E5ECF6\",\"width\":0.5},\"pattern\":{\"fillmode\":\"overlay\",\"size\":10,\"solidity\":0.2}},\"type\":\"bar\"}],\"scattergeo\":[{\"type\":\"scattergeo\",\"marker\":{\"colorbar\":{\"outlinewidth\":0,\"ticks\":\"\"}}}],\"scatterpolar\":[{\"type\":\"scatterpolar\",\"marker\":{\"colorbar\":{\"outlinewidth\":0,\"ticks\":\"\"}}}],\"histogram\":[{\"marker\":{\"pattern\":{\"fillmode\":\"overlay\",\"size\":10,\"solidity\":0.2}},\"type\":\"histogram\"}],\"scattergl\":[{\"type\":\"scattergl\",\"marker\":{\"colorbar\":{\"outlinewidth\":0,\"ticks\":\"\"}}}],\"scatter3d\":[{\"type\":\"scatter3d\",\"line\":{\"colorbar\":{\"outlinewidth\":0,\"ticks\":\"\"}},\"marker\":{\"colorbar\":{\"outlinewidth\":0,\"ticks\":\"\"}}}],\"scattermapbox\":[{\"type\":\"scattermapbox\",\"marker\":{\"colorbar\":{\"outlinewidth\":0,\"ticks\":\"\"}}}],\"scatterternary\":[{\"type\":\"scatterternary\",\"marker\":{\"colorbar\":{\"outlinewidth\":0,\"ticks\":\"\"}}}],\"scattercarpet\":[{\"type\":\"scattercarpet\",\"marker\":{\"colorbar\":{\"outlinewidth\":0,\"ticks\":\"\"}}}],\"carpet\":[{\"aaxis\":{\"endlinecolor\":\"#2a3f5f\",\"gridcolor\":\"white\",\"linecolor\":\"white\",\"minorgridcolor\":\"white\",\"startlinecolor\":\"#2a3f5f\"},\"baxis\":{\"endlinecolor\":\"#2a3f5f\",\"gridcolor\":\"white\",\"linecolor\":\"white\",\"minorgridcolor\":\"white\",\"startlinecolor\":\"#2a3f5f\"},\"type\":\"carpet\"}],\"table\":[{\"cells\":{\"fill\":{\"color\":\"#EBF0F8\"},\"line\":{\"color\":\"white\"}},\"header\":{\"fill\":{\"color\":\"#C8D4E3\"},\"line\":{\"color\":\"white\"}},\"type\":\"table\"}],\"barpolar\":[{\"marker\":{\"line\":{\"color\":\"#E5ECF6\",\"width\":0.5},\"pattern\":{\"fillmode\":\"overlay\",\"size\":10,\"solidity\":0.2}},\"type\":\"barpolar\"}],\"pie\":[{\"automargin\":true,\"type\":\"pie\"}]},\"layout\":{\"autotypenumbers\":\"strict\",\"colorway\":[\"#636efa\",\"#EF553B\",\"#00cc96\",\"#ab63fa\",\"#FFA15A\",\"#19d3f3\",\"#FF6692\",\"#B6E880\",\"#FF97FF\",\"#FECB52\"],\"font\":{\"color\":\"#2a3f5f\"},\"hovermode\":\"closest\",\"hoverlabel\":{\"align\":\"left\"},\"paper_bgcolor\":\"white\",\"plot_bgcolor\":\"#E5ECF6\",\"polar\":{\"bgcolor\":\"#E5ECF6\",\"angularaxis\":{\"gridcolor\":\"white\",\"linecolor\":\"white\",\"ticks\":\"\"},\"radialaxis\":{\"gridcolor\":\"white\",\"linecolor\":\"white\",\"ticks\":\"\"}},\"ternary\":{\"bgcolor\":\"#E5ECF6\",\"aaxis\":{\"gridcolor\":\"white\",\"linecolor\":\"white\",\"ticks\":\"\"},\"baxis\":{\"gridcolor\":\"white\",\"linecolor\":\"white\",\"ticks\":\"\"},\"caxis\":{\"gridcolor\":\"white\",\"linecolor\":\"white\",\"ticks\":\"\"}},\"coloraxis\":{\"colorbar\":{\"outlinewidth\":0,\"ticks\":\"\"}},\"colorscale\":{\"sequential\":[[0.0,\"#0d0887\"],[0.1111111111111111,\"#46039f\"],[0.2222222222222222,\"#7201a8\"],[0.3333333333333333,\"#9c179e\"],[0.4444444444444444,\"#bd3786\"],[0.5555555555555556,\"#d8576b\"],[0.6666666666666666,\"#ed7953\"],[0.7777777777777778,\"#fb9f3a\"],[0.8888888888888888,\"#fdca26\"],[1.0,\"#f0f921\"]],\"sequentialminus\":[[0.0,\"#0d0887\"],[0.1111111111111111,\"#46039f\"],[0.2222222222222222,\"#7201a8\"],[0.3333333333333333,\"#9c179e\"],[0.4444444444444444,\"#bd3786\"],[0.5555555555555556,\"#d8576b\"],[0.6666666666666666,\"#ed7953\"],[0.7777777777777778,\"#fb9f3a\"],[0.8888888888888888,\"#fdca26\"],[1.0,\"#f0f921\"]],\"diverging\":[[0,\"#8e0152\"],[0.1,\"#c51b7d\"],[0.2,\"#de77ae\"],[0.3,\"#f1b6da\"],[0.4,\"#fde0ef\"],[0.5,\"#f7f7f7\"],[0.6,\"#e6f5d0\"],[0.7,\"#b8e186\"],[0.8,\"#7fbc41\"],[0.9,\"#4d9221\"],[1,\"#276419\"]]},\"xaxis\":{\"gridcolor\":\"white\",\"linecolor\":\"white\",\"ticks\":\"\",\"title\":{\"standoff\":15},\"zerolinecolor\":\"white\",\"automargin\":true,\"zerolinewidth\":2},\"yaxis\":{\"gridcolor\":\"white\",\"linecolor\":\"white\",\"ticks\":\"\",\"title\":{\"standoff\":15},\"zerolinecolor\":\"white\",\"automargin\":true,\"zerolinewidth\":2},\"scene\":{\"xaxis\":{\"backgroundcolor\":\"#E5ECF6\",\"gridcolor\":\"white\",\"linecolor\":\"white\",\"showbackground\":true,\"ticks\":\"\",\"zerolinecolor\":\"white\",\"gridwidth\":2},\"yaxis\":{\"backgroundcolor\":\"#E5ECF6\",\"gridcolor\":\"white\",\"linecolor\":\"white\",\"showbackground\":true,\"ticks\":\"\",\"zerolinecolor\":\"white\",\"gridwidth\":2},\"zaxis\":{\"backgroundcolor\":\"#E5ECF6\",\"gridcolor\":\"white\",\"linecolor\":\"white\",\"showbackground\":true,\"ticks\":\"\",\"zerolinecolor\":\"white\",\"gridwidth\":2}},\"shapedefaults\":{\"line\":{\"color\":\"#2a3f5f\"}},\"annotationdefaults\":{\"arrowcolor\":\"#2a3f5f\",\"arrowhead\":0,\"arrowwidth\":1},\"geo\":{\"bgcolor\":\"white\",\"landcolor\":\"#E5ECF6\",\"subunitcolor\":\"white\",\"showland\":true,\"showlakes\":true,\"lakecolor\":\"white\"},\"title\":{\"x\":0.05},\"mapbox\":{\"style\":\"light\"}}},\"title\":{\"text\":\"Audio Features Clustered by Playlist\"},\"xaxis\":{\"title\":{\"text\":\"Audio Features\"}},\"yaxis\":{\"title\":{\"text\":\"Audio Features\"}}},                        {\"responsive\": true}                    ).then(function(){\n",
       "                            \n",
       "var gd = document.getElementById('7177a2dc-38c1-43c3-8c90-07debfde0276');\n",
       "var x = new MutationObserver(function (mutations, observer) {{\n",
       "        var display = window.getComputedStyle(gd).display;\n",
       "        if (!display || display === 'none') {{\n",
       "            console.log([gd, 'removed!']);\n",
       "            Plotly.purge(gd);\n",
       "            observer.disconnect();\n",
       "        }}\n",
       "}});\n",
       "\n",
       "// Listen for the removal of the full notebook cells\n",
       "var notebookContainer = gd.closest('#notebook-container');\n",
       "if (notebookContainer) {{\n",
       "    x.observe(notebookContainer, {childList: true});\n",
       "}}\n",
       "\n",
       "// Listen for the clearing of the current output cell\n",
       "var outputEl = gd.closest('.output');\n",
       "if (outputEl) {{\n",
       "    x.observe(outputEl, {childList: true});\n",
       "}}\n",
       "\n",
       "                        })                };                });            </script>        </div>"
      ]
     },
     "metadata": {},
     "output_type": "display_data"
    }
   ],
   "source": [
    "# Perform PCA to reduce dimensionality to 2 components\n",
    "pca = PCA(n_components=2)\n",
    "features_pca = pca.fit_transform(features_with_playlist.drop('playlist_name', axis=1)) # Drop playlist_name for PCA\n",
    "\n",
    "# Create a figure\n",
    "fig = go.Figure()\n",
    "\n",
    "# Plot the clusters\n",
    "fig.add_trace(go.Scatter(x=features_pca[:, 0], y=features_pca[:, 1], mode='markers',\n",
    "                         marker=dict(color=labels, colorscale='Greens', opacity=0.7, size=10),\n",
    "                         text=features_with_playlist['playlist_name'],  # Set text to playlist_name\n",
    "                         showlegend=False))\n",
    "\n",
    "# Customize plot\n",
    "fig.update_layout(\n",
    "    title='Audio Features Clustered by Playlist', \n",
    "    xaxis_title='Audio Features', \n",
    "    yaxis_title='Audio Features'#, \n",
    "    #plot_bgcolor='black',\n",
    "    #paper_bgcolor='lightgrey',\n",
    "    #font=dict(color='white')\n",
    ")\n",
    "\n",
    "# Show the figure\n",
    "fig.show()"
   ]
  },
  {
   "cell_type": "markdown",
   "id": "32baa4e7-31ca-4603-be54-80f88724c736",
   "metadata": {},
   "source": [
    "### Adding user data point to Plotly"
   ]
  },
  {
   "cell_type": "code",
   "execution_count": 44,
   "id": "29812d27-6052-4884-96ae-49a6866ae316",
   "metadata": {
    "tags": []
   },
   "outputs": [
    {
     "data": {
      "application/vnd.plotly.v1+json": {
       "config": {
        "plotlyServerURL": "https://plot.ly"
       },
       "data": [
        {
         "marker": {
          "color": [
           2,
           0,
           2,
           0,
           1,
           3,
           0,
           2,
           1,
           0,
           1,
           0,
           2,
           0,
           3,
           3,
           0,
           2,
           0,
           0,
           1,
           2,
           0,
           0,
           0,
           0,
           1,
           0,
           0,
           2,
           0,
           0,
           2,
           1,
           0,
           2,
           0,
           3,
           2,
           0,
           1,
           0,
           0,
           1,
           2,
           0
          ],
          "colorscale": [
           [
            0,
            "rgb(214, 249, 207)"
           ],
           [
            0.09090909090909091,
            "rgb(186, 228, 174)"
           ],
           [
            0.18181818181818182,
            "rgb(156, 209, 143)"
           ],
           [
            0.2727272727272727,
            "rgb(124, 191, 115)"
           ],
           [
            0.36363636363636365,
            "rgb(85, 174, 91)"
           ],
           [
            0.45454545454545453,
            "rgb(37, 157, 81)"
           ],
           [
            0.5454545454545454,
            "rgb(7, 138, 78)"
           ],
           [
            0.6363636363636364,
            "rgb(13, 117, 71)"
           ],
           [
            0.7272727272727273,
            "rgb(23, 95, 61)"
           ],
           [
            0.8181818181818182,
            "rgb(25, 75, 49)"
           ],
           [
            0.9090909090909091,
            "rgb(23, 55, 35)"
           ],
           [
            1,
            "rgb(17, 36, 20)"
           ]
          ],
          "opacity": 0.7,
          "size": 10
         },
         "mode": "markers",
         "name": "Playlist",
         "showlegend": false,
         "text": [
          "Viral 50 - USA",
          "Viral 50 - Global",
          "Top 50 - USA",
          "Top 50 - Global",
          "sad hour",
          "Westside Story",
          "New Noise",
          "Alternative Hip-Hop",
          "Fuego #052 - Regina's Fan Mixtape",
          "Pop Rising",
          "Gulf & Western",
          "ALT NOW",
          "Country Rocks",
          "Alternative Beats",
          "Baila Reggaeton",
          "African Heat",
          "Fresh Finds Country",
          "The Scene",
          "All New Rock",
          "Hot Hits USA",
          "Chill Pop",
          "RapCaviar",
          "Viva Latino",
          "New Pop Picks",
          "Hot Country",
          "Signed XOXO",
          "Front Page Indie",
          "it's alt good",
          "Today's Indie Rock",
          "mint",
          "K-Pop Rising",
          "RNB X",
          "New Joints",
          "Yalla ",
          "Soak Up The Sun",
          "Feelin' Myself",
          "The New Alt",
          "Fuego",
          "Dance Rising",
          "CST",
          "Spring Pop 🌸",
          "K-Pop ON! (온)",
          "MARROW",
          "bossa pop",
          "Homegrown + Heavy",
          "Billboard Hot 100"
         ],
         "type": "scatter",
         "x": [
          1.0845745836670702,
          -0.8932757042453978,
          1.067427767599598,
          -0.9113232980409597,
          0.061927199786878016,
          2.1640343254799013,
          -0.9420022847182119,
          1.127723474431855,
          0.1264015144095259,
          -0.926370442781541,
          0.05844659120552782,
          -0.9399598206423453,
          1.0268486172790687,
          -0.9193414666310231,
          2.1006326359649017,
          2.1107576658198908,
          -0.9524407184810311,
          1.0314762472586356,
          -0.9484758826388462,
          -0.9102827074149169,
          0.06459380410292194,
          1.142076759061284,
          -0.8990325858957566,
          -0.9228238146833512,
          -0.94819164703559,
          -0.8432780195403778,
          0.06274154011056342,
          -0.9348229696945068,
          -0.942033583806088,
          1.094073724110941,
          -0.9069290274532263,
          -0.9069142556380525,
          1.147493870814559,
          0.07903914425874846,
          -0.9319159513797836,
          1.1425922765014842,
          -0.939618478322903,
          2.0992762678901293,
          1.0948518942588659,
          -0.8248886274913773,
          0.07331084085225043,
          -0.8998383091137322,
          -0.9413871983387863,
          0.0783585583612522,
          1.042366442508362,
          -0.8958789517464086
         ],
         "y": [
          0.009729582608985791,
          -0.128928304826671,
          -0.08522002153611415,
          -0.23308049722033483,
          -0.401438568427454,
          -0.4977750329114045,
          0.5445895173096365,
          -0.030750047888907353,
          -0.31633905856208505,
          -0.15576515941021638,
          -0.35751361275019816,
          0.14788740911898762,
          0.5848827723125255,
          0.2665008832448686,
          -0.20222774908101773,
          -0.40640547026173235,
          -0.03185616825227047,
          0.9925622925156556,
          0.5637701366016912,
          -0.16512289085913884,
          -0.3296864152955672,
          -0.08187058477512159,
          -0.24760310964001903,
          -0.13282607342569097,
          0.11348105369861626,
          -0.28923013667835157,
          0.02742230065675054,
          0.1525168193306228,
          0.11861614681370951,
          0.2981865540648262,
          -0.08424712381773321,
          -0.19039277487033013,
          0.04313968757632406,
          -0.188181832467823,
          0.05981750521991993,
          -0.22098303449487708,
          0.2364437725189426,
          -0.07026736206622144,
          0.45969768444598114,
          -0.3754734023052556,
          -0.18342372857383818,
          -0.10859919320453015,
          0.502892393129617,
          -0.5668050517975168,
          1.1091688123645453,
          -0.14929291813178694
         ]
        },
        {
         "marker": {
          "color": "#f037a5",
          "size": 15
         },
         "name": "Your Song",
         "type": "scatter",
         "x": [
          1.5
         ],
         "y": [
          0.5
         ]
        }
       ],
       "layout": {
        "autosize": true,
        "template": {
         "data": {
          "bar": [
           {
            "error_x": {
             "color": "#2a3f5f"
            },
            "error_y": {
             "color": "#2a3f5f"
            },
            "marker": {
             "line": {
              "color": "#E5ECF6",
              "width": 0.5
             },
             "pattern": {
              "fillmode": "overlay",
              "size": 10,
              "solidity": 0.2
             }
            },
            "type": "bar"
           }
          ],
          "barpolar": [
           {
            "marker": {
             "line": {
              "color": "#E5ECF6",
              "width": 0.5
             },
             "pattern": {
              "fillmode": "overlay",
              "size": 10,
              "solidity": 0.2
             }
            },
            "type": "barpolar"
           }
          ],
          "carpet": [
           {
            "aaxis": {
             "endlinecolor": "#2a3f5f",
             "gridcolor": "white",
             "linecolor": "white",
             "minorgridcolor": "white",
             "startlinecolor": "#2a3f5f"
            },
            "baxis": {
             "endlinecolor": "#2a3f5f",
             "gridcolor": "white",
             "linecolor": "white",
             "minorgridcolor": "white",
             "startlinecolor": "#2a3f5f"
            },
            "type": "carpet"
           }
          ],
          "choropleth": [
           {
            "colorbar": {
             "outlinewidth": 0,
             "ticks": ""
            },
            "type": "choropleth"
           }
          ],
          "contour": [
           {
            "colorbar": {
             "outlinewidth": 0,
             "ticks": ""
            },
            "colorscale": [
             [
              0,
              "#0d0887"
             ],
             [
              0.1111111111111111,
              "#46039f"
             ],
             [
              0.2222222222222222,
              "#7201a8"
             ],
             [
              0.3333333333333333,
              "#9c179e"
             ],
             [
              0.4444444444444444,
              "#bd3786"
             ],
             [
              0.5555555555555556,
              "#d8576b"
             ],
             [
              0.6666666666666666,
              "#ed7953"
             ],
             [
              0.7777777777777778,
              "#fb9f3a"
             ],
             [
              0.8888888888888888,
              "#fdca26"
             ],
             [
              1,
              "#f0f921"
             ]
            ],
            "type": "contour"
           }
          ],
          "contourcarpet": [
           {
            "colorbar": {
             "outlinewidth": 0,
             "ticks": ""
            },
            "type": "contourcarpet"
           }
          ],
          "heatmap": [
           {
            "colorbar": {
             "outlinewidth": 0,
             "ticks": ""
            },
            "colorscale": [
             [
              0,
              "#0d0887"
             ],
             [
              0.1111111111111111,
              "#46039f"
             ],
             [
              0.2222222222222222,
              "#7201a8"
             ],
             [
              0.3333333333333333,
              "#9c179e"
             ],
             [
              0.4444444444444444,
              "#bd3786"
             ],
             [
              0.5555555555555556,
              "#d8576b"
             ],
             [
              0.6666666666666666,
              "#ed7953"
             ],
             [
              0.7777777777777778,
              "#fb9f3a"
             ],
             [
              0.8888888888888888,
              "#fdca26"
             ],
             [
              1,
              "#f0f921"
             ]
            ],
            "type": "heatmap"
           }
          ],
          "heatmapgl": [
           {
            "colorbar": {
             "outlinewidth": 0,
             "ticks": ""
            },
            "colorscale": [
             [
              0,
              "#0d0887"
             ],
             [
              0.1111111111111111,
              "#46039f"
             ],
             [
              0.2222222222222222,
              "#7201a8"
             ],
             [
              0.3333333333333333,
              "#9c179e"
             ],
             [
              0.4444444444444444,
              "#bd3786"
             ],
             [
              0.5555555555555556,
              "#d8576b"
             ],
             [
              0.6666666666666666,
              "#ed7953"
             ],
             [
              0.7777777777777778,
              "#fb9f3a"
             ],
             [
              0.8888888888888888,
              "#fdca26"
             ],
             [
              1,
              "#f0f921"
             ]
            ],
            "type": "heatmapgl"
           }
          ],
          "histogram": [
           {
            "marker": {
             "pattern": {
              "fillmode": "overlay",
              "size": 10,
              "solidity": 0.2
             }
            },
            "type": "histogram"
           }
          ],
          "histogram2d": [
           {
            "colorbar": {
             "outlinewidth": 0,
             "ticks": ""
            },
            "colorscale": [
             [
              0,
              "#0d0887"
             ],
             [
              0.1111111111111111,
              "#46039f"
             ],
             [
              0.2222222222222222,
              "#7201a8"
             ],
             [
              0.3333333333333333,
              "#9c179e"
             ],
             [
              0.4444444444444444,
              "#bd3786"
             ],
             [
              0.5555555555555556,
              "#d8576b"
             ],
             [
              0.6666666666666666,
              "#ed7953"
             ],
             [
              0.7777777777777778,
              "#fb9f3a"
             ],
             [
              0.8888888888888888,
              "#fdca26"
             ],
             [
              1,
              "#f0f921"
             ]
            ],
            "type": "histogram2d"
           }
          ],
          "histogram2dcontour": [
           {
            "colorbar": {
             "outlinewidth": 0,
             "ticks": ""
            },
            "colorscale": [
             [
              0,
              "#0d0887"
             ],
             [
              0.1111111111111111,
              "#46039f"
             ],
             [
              0.2222222222222222,
              "#7201a8"
             ],
             [
              0.3333333333333333,
              "#9c179e"
             ],
             [
              0.4444444444444444,
              "#bd3786"
             ],
             [
              0.5555555555555556,
              "#d8576b"
             ],
             [
              0.6666666666666666,
              "#ed7953"
             ],
             [
              0.7777777777777778,
              "#fb9f3a"
             ],
             [
              0.8888888888888888,
              "#fdca26"
             ],
             [
              1,
              "#f0f921"
             ]
            ],
            "type": "histogram2dcontour"
           }
          ],
          "mesh3d": [
           {
            "colorbar": {
             "outlinewidth": 0,
             "ticks": ""
            },
            "type": "mesh3d"
           }
          ],
          "parcoords": [
           {
            "line": {
             "colorbar": {
              "outlinewidth": 0,
              "ticks": ""
             }
            },
            "type": "parcoords"
           }
          ],
          "pie": [
           {
            "automargin": true,
            "type": "pie"
           }
          ],
          "scatter": [
           {
            "fillpattern": {
             "fillmode": "overlay",
             "size": 10,
             "solidity": 0.2
            },
            "type": "scatter"
           }
          ],
          "scatter3d": [
           {
            "line": {
             "colorbar": {
              "outlinewidth": 0,
              "ticks": ""
             }
            },
            "marker": {
             "colorbar": {
              "outlinewidth": 0,
              "ticks": ""
             }
            },
            "type": "scatter3d"
           }
          ],
          "scattercarpet": [
           {
            "marker": {
             "colorbar": {
              "outlinewidth": 0,
              "ticks": ""
             }
            },
            "type": "scattercarpet"
           }
          ],
          "scattergeo": [
           {
            "marker": {
             "colorbar": {
              "outlinewidth": 0,
              "ticks": ""
             }
            },
            "type": "scattergeo"
           }
          ],
          "scattergl": [
           {
            "marker": {
             "colorbar": {
              "outlinewidth": 0,
              "ticks": ""
             }
            },
            "type": "scattergl"
           }
          ],
          "scattermapbox": [
           {
            "marker": {
             "colorbar": {
              "outlinewidth": 0,
              "ticks": ""
             }
            },
            "type": "scattermapbox"
           }
          ],
          "scatterpolar": [
           {
            "marker": {
             "colorbar": {
              "outlinewidth": 0,
              "ticks": ""
             }
            },
            "type": "scatterpolar"
           }
          ],
          "scatterpolargl": [
           {
            "marker": {
             "colorbar": {
              "outlinewidth": 0,
              "ticks": ""
             }
            },
            "type": "scatterpolargl"
           }
          ],
          "scatterternary": [
           {
            "marker": {
             "colorbar": {
              "outlinewidth": 0,
              "ticks": ""
             }
            },
            "type": "scatterternary"
           }
          ],
          "surface": [
           {
            "colorbar": {
             "outlinewidth": 0,
             "ticks": ""
            },
            "colorscale": [
             [
              0,
              "#0d0887"
             ],
             [
              0.1111111111111111,
              "#46039f"
             ],
             [
              0.2222222222222222,
              "#7201a8"
             ],
             [
              0.3333333333333333,
              "#9c179e"
             ],
             [
              0.4444444444444444,
              "#bd3786"
             ],
             [
              0.5555555555555556,
              "#d8576b"
             ],
             [
              0.6666666666666666,
              "#ed7953"
             ],
             [
              0.7777777777777778,
              "#fb9f3a"
             ],
             [
              0.8888888888888888,
              "#fdca26"
             ],
             [
              1,
              "#f0f921"
             ]
            ],
            "type": "surface"
           }
          ],
          "table": [
           {
            "cells": {
             "fill": {
              "color": "#EBF0F8"
             },
             "line": {
              "color": "white"
             }
            },
            "header": {
             "fill": {
              "color": "#C8D4E3"
             },
             "line": {
              "color": "white"
             }
            },
            "type": "table"
           }
          ]
         },
         "layout": {
          "annotationdefaults": {
           "arrowcolor": "#2a3f5f",
           "arrowhead": 0,
           "arrowwidth": 1
          },
          "autotypenumbers": "strict",
          "coloraxis": {
           "colorbar": {
            "outlinewidth": 0,
            "ticks": ""
           }
          },
          "colorscale": {
           "diverging": [
            [
             0,
             "#8e0152"
            ],
            [
             0.1,
             "#c51b7d"
            ],
            [
             0.2,
             "#de77ae"
            ],
            [
             0.3,
             "#f1b6da"
            ],
            [
             0.4,
             "#fde0ef"
            ],
            [
             0.5,
             "#f7f7f7"
            ],
            [
             0.6,
             "#e6f5d0"
            ],
            [
             0.7,
             "#b8e186"
            ],
            [
             0.8,
             "#7fbc41"
            ],
            [
             0.9,
             "#4d9221"
            ],
            [
             1,
             "#276419"
            ]
           ],
           "sequential": [
            [
             0,
             "#0d0887"
            ],
            [
             0.1111111111111111,
             "#46039f"
            ],
            [
             0.2222222222222222,
             "#7201a8"
            ],
            [
             0.3333333333333333,
             "#9c179e"
            ],
            [
             0.4444444444444444,
             "#bd3786"
            ],
            [
             0.5555555555555556,
             "#d8576b"
            ],
            [
             0.6666666666666666,
             "#ed7953"
            ],
            [
             0.7777777777777778,
             "#fb9f3a"
            ],
            [
             0.8888888888888888,
             "#fdca26"
            ],
            [
             1,
             "#f0f921"
            ]
           ],
           "sequentialminus": [
            [
             0,
             "#0d0887"
            ],
            [
             0.1111111111111111,
             "#46039f"
            ],
            [
             0.2222222222222222,
             "#7201a8"
            ],
            [
             0.3333333333333333,
             "#9c179e"
            ],
            [
             0.4444444444444444,
             "#bd3786"
            ],
            [
             0.5555555555555556,
             "#d8576b"
            ],
            [
             0.6666666666666666,
             "#ed7953"
            ],
            [
             0.7777777777777778,
             "#fb9f3a"
            ],
            [
             0.8888888888888888,
             "#fdca26"
            ],
            [
             1,
             "#f0f921"
            ]
           ]
          },
          "colorway": [
           "#636efa",
           "#EF553B",
           "#00cc96",
           "#ab63fa",
           "#FFA15A",
           "#19d3f3",
           "#FF6692",
           "#B6E880",
           "#FF97FF",
           "#FECB52"
          ],
          "font": {
           "color": "#2a3f5f"
          },
          "geo": {
           "bgcolor": "white",
           "lakecolor": "white",
           "landcolor": "#E5ECF6",
           "showlakes": true,
           "showland": true,
           "subunitcolor": "white"
          },
          "hoverlabel": {
           "align": "left"
          },
          "hovermode": "closest",
          "mapbox": {
           "style": "light"
          },
          "paper_bgcolor": "white",
          "plot_bgcolor": "#E5ECF6",
          "polar": {
           "angularaxis": {
            "gridcolor": "white",
            "linecolor": "white",
            "ticks": ""
           },
           "bgcolor": "#E5ECF6",
           "radialaxis": {
            "gridcolor": "white",
            "linecolor": "white",
            "ticks": ""
           }
          },
          "scene": {
           "xaxis": {
            "backgroundcolor": "#E5ECF6",
            "gridcolor": "white",
            "gridwidth": 2,
            "linecolor": "white",
            "showbackground": true,
            "ticks": "",
            "zerolinecolor": "white"
           },
           "yaxis": {
            "backgroundcolor": "#E5ECF6",
            "gridcolor": "white",
            "gridwidth": 2,
            "linecolor": "white",
            "showbackground": true,
            "ticks": "",
            "zerolinecolor": "white"
           },
           "zaxis": {
            "backgroundcolor": "#E5ECF6",
            "gridcolor": "white",
            "gridwidth": 2,
            "linecolor": "white",
            "showbackground": true,
            "ticks": "",
            "zerolinecolor": "white"
           }
          },
          "shapedefaults": {
           "line": {
            "color": "#2a3f5f"
           }
          },
          "ternary": {
           "aaxis": {
            "gridcolor": "white",
            "linecolor": "white",
            "ticks": ""
           },
           "baxis": {
            "gridcolor": "white",
            "linecolor": "white",
            "ticks": ""
           },
           "bgcolor": "#E5ECF6",
           "caxis": {
            "gridcolor": "white",
            "linecolor": "white",
            "ticks": ""
           }
          },
          "title": {
           "x": 0.05
          },
          "xaxis": {
           "automargin": true,
           "gridcolor": "white",
           "linecolor": "white",
           "ticks": "",
           "title": {
            "standoff": 15
           },
           "zerolinecolor": "white",
           "zerolinewidth": 2
          },
          "yaxis": {
           "automargin": true,
           "gridcolor": "white",
           "linecolor": "white",
           "ticks": "",
           "title": {
            "standoff": 15
           },
           "zerolinecolor": "white",
           "zerolinewidth": 2
          }
         }
        },
        "title": {
         "text": "Audio Features Clustered by Playlist"
        },
        "xaxis": {
         "autorange": true,
         "range": [
          -1.153246576593574,
          2.364840183592444
         ],
         "title": {
          "text": "Audio Features"
         },
         "type": "linear"
        },
        "yaxis": {
         "autorange": true,
         "range": [
          -0.7377655964695666,
          1.2801293570365953
         ],
         "title": {
          "text": "Audio Features"
         },
         "type": "linear"
        }
       }
      },
      "image/png": "[encoded data removed]",
      "text/html": [
       "<div>                            <div id=\"eb88742a-b43e-418c-a0fb-2fe112d92240\" class=\"plotly-graph-div\" style=\"height:525px; width:100%;\"></div>            <script type=\"text/javascript\">                require([\"plotly\"], function(Plotly) {                    window.PLOTLYENV=window.PLOTLYENV || {};                                    if (document.getElementById(\"eb88742a-b43e-418c-a0fb-2fe112d92240\")) {                    Plotly.newPlot(                        \"eb88742a-b43e-418c-a0fb-2fe112d92240\",                        [{\"marker\":{\"color\":[2,0,2,0,1,3,0,2,1,0,1,0,2,0,3,3,0,2,0,0,1,2,0,0,0,0,1,0,0,2,0,0,2,1,0,2,0,3,2,0,1,0,0,1,2,0],\"colorscale\":[[0.0,\"rgb(214, 249, 207)\"],[0.09090909090909091,\"rgb(186, 228, 174)\"],[0.18181818181818182,\"rgb(156, 209, 143)\"],[0.2727272727272727,\"rgb(124, 191, 115)\"],[0.36363636363636365,\"rgb(85, 174, 91)\"],[0.45454545454545453,\"rgb(37, 157, 81)\"],[0.5454545454545454,\"rgb(7, 138, 78)\"],[0.6363636363636364,\"rgb(13, 117, 71)\"],[0.7272727272727273,\"rgb(23, 95, 61)\"],[0.8181818181818182,\"rgb(25, 75, 49)\"],[0.9090909090909091,\"rgb(23, 55, 35)\"],[1.0,\"rgb(17, 36, 20)\"]],\"opacity\":0.7,\"size\":10},\"mode\":\"markers\",\"name\":\"Playlist\",\"showlegend\":false,\"text\":[\"Viral 50 - USA\",\"Viral 50 - Global\",\"Top 50 - USA\",\"Top 50 - Global\",\"sad hour\",\"Westside Story\",\"New Noise\",\"Alternative Hip-Hop\",\"Fuego #052 - Regina's Fan Mixtape\",\"Pop Rising\",\"Gulf & Western\",\"ALT NOW\",\"Country Rocks\",\"Alternative Beats\",\"Baila Reggaeton\",\"African Heat\",\"Fresh Finds Country\",\"The Scene\",\"All New Rock\",\"Hot Hits USA\",\"Chill Pop\",\"RapCaviar\",\"Viva Latino\",\"New Pop Picks\",\"Hot Country\",\"Signed XOXO\",\"Front Page Indie\",\"it's alt good\",\"Today's Indie Rock\",\"mint\",\"K-Pop Rising\",\"RNB X\",\"New Joints\",\"Yalla \",\"Soak Up The Sun\",\"Feelin' Myself\",\"The New Alt\",\"Fuego\",\"Dance Rising\",\"CST\",\"Spring Pop \\ud83c\\udf38\",\"K-Pop ON! (\\uc628)\",\"MARROW\",\"bossa pop\",\"Homegrown + Heavy\",\"Billboard Hot 100\"],\"x\":[1.0845745836670702,-0.8932757042453978,1.067427767599598,-0.9113232980409597,0.061927199786878016,2.1640343254799013,-0.9420022847182119,1.127723474431855,0.1264015144095259,-0.926370442781541,0.05844659120552782,-0.9399598206423453,1.0268486172790687,-0.9193414666310231,2.1006326359649017,2.1107576658198908,-0.9524407184810311,1.0314762472586356,-0.9484758826388462,-0.9102827074149169,0.06459380410292194,1.142076759061284,-0.8990325858957566,-0.9228238146833512,-0.94819164703559,-0.8432780195403778,0.06274154011056342,-0.9348229696945068,-0.942033583806088,1.094073724110941,-0.9069290274532263,-0.9069142556380525,1.147493870814559,0.07903914425874846,-0.9319159513797836,1.1425922765014842,-0.939618478322903,2.0992762678901293,1.0948518942588659,-0.8248886274913773,0.07331084085225043,-0.8998383091137322,-0.9413871983387863,0.0783585583612522,1.042366442508362,-0.8958789517464086],\"y\":[0.009729582608985791,-0.128928304826671,-0.08522002153611415,-0.23308049722033483,-0.401438568427454,-0.4977750329114045,0.5445895173096365,-0.030750047888907353,-0.31633905856208505,-0.15576515941021638,-0.35751361275019816,0.14788740911898762,0.5848827723125255,0.2665008832448686,-0.20222774908101773,-0.40640547026173235,-0.03185616825227047,0.9925622925156556,0.5637701366016912,-0.16512289085913884,-0.3296864152955672,-0.08187058477512159,-0.24760310964001903,-0.13282607342569097,0.11348105369861626,-0.28923013667835157,0.02742230065675054,0.1525168193306228,0.11861614681370951,0.2981865540648262,-0.08424712381773321,-0.19039277487033013,0.04313968757632406,-0.188181832467823,0.05981750521991993,-0.22098303449487708,0.2364437725189426,-0.07026736206622144,0.45969768444598114,-0.3754734023052556,-0.18342372857383818,-0.10859919320453015,0.502892393129617,-0.5668050517975168,1.1091688123645453,-0.14929291813178694],\"type\":\"scatter\"},{\"marker\":{\"color\":\"#f037a5\",\"size\":15},\"name\":\"Your Song\",\"x\":[1.5],\"y\":[0.5],\"type\":\"scatter\"}],                        {\"template\":{\"data\":{\"histogram2dcontour\":[{\"type\":\"histogram2dcontour\",\"colorbar\":{\"outlinewidth\":0,\"ticks\":\"\"},\"colorscale\":[[0.0,\"#0d0887\"],[0.1111111111111111,\"#46039f\"],[0.2222222222222222,\"#7201a8\"],[0.3333333333333333,\"#9c179e\"],[0.4444444444444444,\"#bd3786\"],[0.5555555555555556,\"#d8576b\"],[0.6666666666666666,\"#ed7953\"],[0.7777777777777778,\"#fb9f3a\"],[0.8888888888888888,\"#fdca26\"],[1.0,\"#f0f921\"]]}],\"choropleth\":[{\"type\":\"choropleth\",\"colorbar\":{\"outlinewidth\":0,\"ticks\":\"\"}}],\"histogram2d\":[{\"type\":\"histogram2d\",\"colorbar\":{\"outlinewidth\":0,\"ticks\":\"\"},\"colorscale\":[[0.0,\"#0d0887\"],[0.1111111111111111,\"#46039f\"],[0.2222222222222222,\"#7201a8\"],[0.3333333333333333,\"#9c179e\"],[0.4444444444444444,\"#bd3786\"],[0.5555555555555556,\"#d8576b\"],[0.6666666666666666,\"#ed7953\"],[0.7777777777777778,\"#fb9f3a\"],[0.8888888888888888,\"#fdca26\"],[1.0,\"#f0f921\"]]}],\"heatmap\":[{\"type\":\"heatmap\",\"colorbar\":{\"outlinewidth\":0,\"ticks\":\"\"},\"colorscale\":[[0.0,\"#0d0887\"],[0.1111111111111111,\"#46039f\"],[0.2222222222222222,\"#7201a8\"],[0.3333333333333333,\"#9c179e\"],[0.4444444444444444,\"#bd3786\"],[0.5555555555555556,\"#d8576b\"],[0.6666666666666666,\"#ed7953\"],[0.7777777777777778,\"#fb9f3a\"],[0.8888888888888888,\"#fdca26\"],[1.0,\"#f0f921\"]]}],\"heatmapgl\":[{\"type\":\"heatmapgl\",\"colorbar\":{\"outlinewidth\":0,\"ticks\":\"\"},\"colorscale\":[[0.0,\"#0d0887\"],[0.1111111111111111,\"#46039f\"],[0.2222222222222222,\"#7201a8\"],[0.3333333333333333,\"#9c179e\"],[0.4444444444444444,\"#bd3786\"],[0.5555555555555556,\"#d8576b\"],[0.6666666666666666,\"#ed7953\"],[0.7777777777777778,\"#fb9f3a\"],[0.8888888888888888,\"#fdca26\"],[1.0,\"#f0f921\"]]}],\"contourcarpet\":[{\"type\":\"contourcarpet\",\"colorbar\":{\"outlinewidth\":0,\"ticks\":\"\"}}],\"contour\":[{\"type\":\"contour\",\"colorbar\":{\"outlinewidth\":0,\"ticks\":\"\"},\"colorscale\":[[0.0,\"#0d0887\"],[0.1111111111111111,\"#46039f\"],[0.2222222222222222,\"#7201a8\"],[0.3333333333333333,\"#9c179e\"],[0.4444444444444444,\"#bd3786\"],[0.5555555555555556,\"#d8576b\"],[0.6666666666666666,\"#ed7953\"],[0.7777777777777778,\"#fb9f3a\"],[0.8888888888888888,\"#fdca26\"],[1.0,\"#f0f921\"]]}],\"surface\":[{\"type\":\"surface\",\"colorbar\":{\"outlinewidth\":0,\"ticks\":\"\"},\"colorscale\":[[0.0,\"#0d0887\"],[0.1111111111111111,\"#46039f\"],[0.2222222222222222,\"#7201a8\"],[0.3333333333333333,\"#9c179e\"],[0.4444444444444444,\"#bd3786\"],[0.5555555555555556,\"#d8576b\"],[0.6666666666666666,\"#ed7953\"],[0.7777777777777778,\"#fb9f3a\"],[0.8888888888888888,\"#fdca26\"],[1.0,\"#f0f921\"]]}],\"mesh3d\":[{\"type\":\"mesh3d\",\"colorbar\":{\"outlinewidth\":0,\"ticks\":\"\"}}],\"scatter\":[{\"fillpattern\":{\"fillmode\":\"overlay\",\"size\":10,\"solidity\":0.2},\"type\":\"scatter\"}],\"parcoords\":[{\"type\":\"parcoords\",\"line\":{\"colorbar\":{\"outlinewidth\":0,\"ticks\":\"\"}}}],\"scatterpolargl\":[{\"type\":\"scatterpolargl\",\"marker\":{\"colorbar\":{\"outlinewidth\":0,\"ticks\":\"\"}}}],\"bar\":[{\"error_x\":{\"color\":\"#2a3f5f\"},\"error_y\":{\"color\":\"#2a3f5f\"},\"marker\":{\"line\":{\"color\":\"#E5ECF6\",\"width\":0.5},\"pattern\":{\"fillmode\":\"overlay\",\"size\":10,\"solidity\":0.2}},\"type\":\"bar\"}],\"scattergeo\":[{\"type\":\"scattergeo\",\"marker\":{\"colorbar\":{\"outlinewidth\":0,\"ticks\":\"\"}}}],\"scatterpolar\":[{\"type\":\"scatterpolar\",\"marker\":{\"colorbar\":{\"outlinewidth\":0,\"ticks\":\"\"}}}],\"histogram\":[{\"marker\":{\"pattern\":{\"fillmode\":\"overlay\",\"size\":10,\"solidity\":0.2}},\"type\":\"histogram\"}],\"scattergl\":[{\"type\":\"scattergl\",\"marker\":{\"colorbar\":{\"outlinewidth\":0,\"ticks\":\"\"}}}],\"scatter3d\":[{\"type\":\"scatter3d\",\"line\":{\"colorbar\":{\"outlinewidth\":0,\"ticks\":\"\"}},\"marker\":{\"colorbar\":{\"outlinewidth\":0,\"ticks\":\"\"}}}],\"scattermapbox\":[{\"type\":\"scattermapbox\",\"marker\":{\"colorbar\":{\"outlinewidth\":0,\"ticks\":\"\"}}}],\"scatterternary\":[{\"type\":\"scatterternary\",\"marker\":{\"colorbar\":{\"outlinewidth\":0,\"ticks\":\"\"}}}],\"scattercarpet\":[{\"type\":\"scattercarpet\",\"marker\":{\"colorbar\":{\"outlinewidth\":0,\"ticks\":\"\"}}}],\"carpet\":[{\"aaxis\":{\"endlinecolor\":\"#2a3f5f\",\"gridcolor\":\"white\",\"linecolor\":\"white\",\"minorgridcolor\":\"white\",\"startlinecolor\":\"#2a3f5f\"},\"baxis\":{\"endlinecolor\":\"#2a3f5f\",\"gridcolor\":\"white\",\"linecolor\":\"white\",\"minorgridcolor\":\"white\",\"startlinecolor\":\"#2a3f5f\"},\"type\":\"carpet\"}],\"table\":[{\"cells\":{\"fill\":{\"color\":\"#EBF0F8\"},\"line\":{\"color\":\"white\"}},\"header\":{\"fill\":{\"color\":\"#C8D4E3\"},\"line\":{\"color\":\"white\"}},\"type\":\"table\"}],\"barpolar\":[{\"marker\":{\"line\":{\"color\":\"#E5ECF6\",\"width\":0.5},\"pattern\":{\"fillmode\":\"overlay\",\"size\":10,\"solidity\":0.2}},\"type\":\"barpolar\"}],\"pie\":[{\"automargin\":true,\"type\":\"pie\"}]},\"layout\":{\"autotypenumbers\":\"strict\",\"colorway\":[\"#636efa\",\"#EF553B\",\"#00cc96\",\"#ab63fa\",\"#FFA15A\",\"#19d3f3\",\"#FF6692\",\"#B6E880\",\"#FF97FF\",\"#FECB52\"],\"font\":{\"color\":\"#2a3f5f\"},\"hovermode\":\"closest\",\"hoverlabel\":{\"align\":\"left\"},\"paper_bgcolor\":\"white\",\"plot_bgcolor\":\"#E5ECF6\",\"polar\":{\"bgcolor\":\"#E5ECF6\",\"angularaxis\":{\"gridcolor\":\"white\",\"linecolor\":\"white\",\"ticks\":\"\"},\"radialaxis\":{\"gridcolor\":\"white\",\"linecolor\":\"white\",\"ticks\":\"\"}},\"ternary\":{\"bgcolor\":\"#E5ECF6\",\"aaxis\":{\"gridcolor\":\"white\",\"linecolor\":\"white\",\"ticks\":\"\"},\"baxis\":{\"gridcolor\":\"white\",\"linecolor\":\"white\",\"ticks\":\"\"},\"caxis\":{\"gridcolor\":\"white\",\"linecolor\":\"white\",\"ticks\":\"\"}},\"coloraxis\":{\"colorbar\":{\"outlinewidth\":0,\"ticks\":\"\"}},\"colorscale\":{\"sequential\":[[0.0,\"#0d0887\"],[0.1111111111111111,\"#46039f\"],[0.2222222222222222,\"#7201a8\"],[0.3333333333333333,\"#9c179e\"],[0.4444444444444444,\"#bd3786\"],[0.5555555555555556,\"#d8576b\"],[0.6666666666666666,\"#ed7953\"],[0.7777777777777778,\"#fb9f3a\"],[0.8888888888888888,\"#fdca26\"],[1.0,\"#f0f921\"]],\"sequentialminus\":[[0.0,\"#0d0887\"],[0.1111111111111111,\"#46039f\"],[0.2222222222222222,\"#7201a8\"],[0.3333333333333333,\"#9c179e\"],[0.4444444444444444,\"#bd3786\"],[0.5555555555555556,\"#d8576b\"],[0.6666666666666666,\"#ed7953\"],[0.7777777777777778,\"#fb9f3a\"],[0.8888888888888888,\"#fdca26\"],[1.0,\"#f0f921\"]],\"diverging\":[[0,\"#8e0152\"],[0.1,\"#c51b7d\"],[0.2,\"#de77ae\"],[0.3,\"#f1b6da\"],[0.4,\"#fde0ef\"],[0.5,\"#f7f7f7\"],[0.6,\"#e6f5d0\"],[0.7,\"#b8e186\"],[0.8,\"#7fbc41\"],[0.9,\"#4d9221\"],[1,\"#276419\"]]},\"xaxis\":{\"gridcolor\":\"white\",\"linecolor\":\"white\",\"ticks\":\"\",\"title\":{\"standoff\":15},\"zerolinecolor\":\"white\",\"automargin\":true,\"zerolinewidth\":2},\"yaxis\":{\"gridcolor\":\"white\",\"linecolor\":\"white\",\"ticks\":\"\",\"title\":{\"standoff\":15},\"zerolinecolor\":\"white\",\"automargin\":true,\"zerolinewidth\":2},\"scene\":{\"xaxis\":{\"backgroundcolor\":\"#E5ECF6\",\"gridcolor\":\"white\",\"linecolor\":\"white\",\"showbackground\":true,\"ticks\":\"\",\"zerolinecolor\":\"white\",\"gridwidth\":2},\"yaxis\":{\"backgroundcolor\":\"#E5ECF6\",\"gridcolor\":\"white\",\"linecolor\":\"white\",\"showbackground\":true,\"ticks\":\"\",\"zerolinecolor\":\"white\",\"gridwidth\":2},\"zaxis\":{\"backgroundcolor\":\"#E5ECF6\",\"gridcolor\":\"white\",\"linecolor\":\"white\",\"showbackground\":true,\"ticks\":\"\",\"zerolinecolor\":\"white\",\"gridwidth\":2}},\"shapedefaults\":{\"line\":{\"color\":\"#2a3f5f\"}},\"annotationdefaults\":{\"arrowcolor\":\"#2a3f5f\",\"arrowhead\":0,\"arrowwidth\":1},\"geo\":{\"bgcolor\":\"white\",\"landcolor\":\"#E5ECF6\",\"subunitcolor\":\"white\",\"showland\":true,\"showlakes\":true,\"lakecolor\":\"white\"},\"title\":{\"x\":0.05},\"mapbox\":{\"style\":\"light\"}}},\"title\":{\"text\":\"Audio Features Clustered by Playlist\"},\"xaxis\":{\"title\":{\"text\":\"Audio Features\"}},\"yaxis\":{\"title\":{\"text\":\"Audio Features\"}}},                        {\"responsive\": true}                    ).then(function(){\n",
       "                            \n",
       "var gd = document.getElementById('eb88742a-b43e-418c-a0fb-2fe112d92240');\n",
       "var x = new MutationObserver(function (mutations, observer) {{\n",
       "        var display = window.getComputedStyle(gd).display;\n",
       "        if (!display || display === 'none') {{\n",
       "            console.log([gd, 'removed!']);\n",
       "            Plotly.purge(gd);\n",
       "            observer.disconnect();\n",
       "        }}\n",
       "}});\n",
       "\n",
       "// Listen for the removal of the full notebook cells\n",
       "var notebookContainer = gd.closest('#notebook-container');\n",
       "if (notebookContainer) {{\n",
       "    x.observe(notebookContainer, {childList: true});\n",
       "}}\n",
       "\n",
       "// Listen for the clearing of the current output cell\n",
       "var outputEl = gd.closest('.output');\n",
       "if (outputEl) {{\n",
       "    x.observe(outputEl, {childList: true});\n",
       "}}\n",
       "\n",
       "                        })                };                });            </script>        </div>"
      ]
     },
     "metadata": {},
     "output_type": "display_data"
    }
   ],
   "source": [
    "# Perform PCA to reduce dimensionality to 2 components\n",
    "pca = PCA(n_components=2)\n",
    "features_pca = pca.fit_transform(features_with_playlist.drop('playlist_name', axis=1)) # Drop playlist_name for PCA\n",
    "\n",
    "# Create a figure\n",
    "fig = go.Figure()\n",
    "\n",
    "# Plot the clusters\n",
    "fig.add_trace(go.Scatter(x=features_pca[:, 0], y=features_pca[:, 1], mode='markers',\n",
    "                         marker=dict(color=labels, colorscale='algae', opacity=0.7, size=10),\n",
    "                         name='Playlist',\n",
    "                         text=features_with_playlist['playlist_name'],  # Set text to playlist_name\n",
    "                         showlegend=False))\n",
    "\n",
    "# Add a single point\n",
    "single_point = dict(\n",
    "    x=[1.5],\n",
    "    y=[0.5],\n",
    "    #mode='markers',\n",
    "    marker=dict(color='#f037a5', size=15),  # Set color to hex f037a5 and size as desired\n",
    "    name='Your Song'\n",
    ")\n",
    "fig.add_trace(single_point)\n",
    "\n",
    "# Customize plot\n",
    "fig.update_layout(\n",
    "    title='Audio Features Clustered by Playlist', \n",
    "    xaxis_title='Audio Features', \n",
    "    yaxis_title='Audio Features'#, \n",
    "    #plot_bgcolor='black',\n",
    "    #paper_bgcolor='lightgrey',\n",
    "    #font=dict(color='white')\n",
    ")\n",
    "\n",
    "# Show the figure\n",
    "fig.show()"
   ]
  }
 ],
 "metadata": {
  "kernelspec": {
   "display_name": "Python 3 (ipykernel)",
   "language": "python",
   "name": "python3"
  },
  "language_info": {
   "codemirror_mode": {
    "name": "ipython",
    "version": 3
   },
   "file_extension": ".py",
   "mimetype": "text/x-python",
   "name": "python",
   "nbconvert_exporter": "python",
   "pygments_lexer": "ipython3",
   "version": "3.12.2"
  }
 },
 "nbformat": 4,
 "nbformat_minor": 5
}
